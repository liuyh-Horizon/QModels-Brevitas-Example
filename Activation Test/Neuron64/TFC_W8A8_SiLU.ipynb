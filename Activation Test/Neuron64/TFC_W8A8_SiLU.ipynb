{
 "cells": [
  {
   "cell_type": "code",
   "execution_count": 1,
   "id": "ebd35c26",
   "metadata": {},
   "outputs": [
    {
     "name": "stderr",
     "output_type": "stream",
     "text": [
      "/home/ieyuhaoliu/anaconda3/envs/brevitas/lib/python3.8/site-packages/torchvision/io/image.py:13: UserWarning: Failed to load image Python extension: /home/ieyuhaoliu/anaconda3/envs/brevitas/lib/python3.8/site-packages/torchvision/image.so: undefined symbol: _ZN5torch3jit17parseSchemaOrNameERKSs\n",
      "  warn(f\"Failed to load image Python extension: {e}\")\n"
     ]
    }
   ],
   "source": [
    "import torchvision\n",
    "from torchvision import datasets\n",
    "from torchvision import transforms\n",
    "from torch.autograd import Variable"
   ]
  },
  {
   "cell_type": "code",
   "execution_count": 2,
   "id": "7128dd4e",
   "metadata": {},
   "outputs": [],
   "source": [
    "data_train = torchvision.datasets.MNIST('./data/', \n",
    "                                        train=True, download=True,\n",
    "                                        transform=torchvision.transforms.Compose\n",
    "                                        ([\n",
    "                                            torchvision.transforms.ToTensor(),\n",
    "                                            #torchvision.transforms.Normalize((0.1307,), (0.3081,))\n",
    "                                            torchvision.transforms.Normalize((0.5,), (0.5,))\n",
    "                                        ]))\n",
    "data_test = torchvision.datasets.MNIST('./data/', \n",
    "                                       train=False, download=True,\n",
    "                                       transform=torchvision.transforms.Compose\n",
    "                                       ([\n",
    "                                            torchvision.transforms.ToTensor(),\n",
    "                                            #torchvision.transforms.Normalize((0.1307,), (0.3081,))\n",
    "                                            torchvision.transforms.Normalize((0.5,), (0.5,))\n",
    "                                       ]))"
   ]
  },
  {
   "cell_type": "code",
   "execution_count": 3,
   "id": "f8cdec15",
   "metadata": {},
   "outputs": [],
   "source": [
    "import torch\n",
    "\n",
    "batch_size_train = 64\n",
    "batch_size_test = 1000\n",
    "\n",
    "data_loader_train = torch.utils.data.DataLoader(dataset=data_train,\n",
    "                                                batch_size=batch_size_train, \n",
    "                                                shuffle=True)\n",
    "\n",
    "data_loader_test = torch.utils.data.DataLoader(dataset=data_test,\n",
    "                                               batch_size=batch_size_test, \n",
    "                                               shuffle=True)"
   ]
  },
  {
   "cell_type": "code",
   "execution_count": 4,
   "id": "b3613886",
   "metadata": {},
   "outputs": [
    {
     "name": "stdout",
     "output_type": "stream",
     "text": [
      "tensor([[-1.0000, -1.0000, -1.0000, -1.0000, -1.0000, -1.0000, -1.0000, -1.0000,\n",
      "         -1.0000, -1.0000, -1.0000, -1.0000, -1.0000, -1.0000, -1.0000, -1.0000,\n",
      "         -1.0000, -1.0000, -1.0000, -1.0000, -1.0000, -1.0000, -1.0000, -1.0000,\n",
      "         -1.0000, -1.0000, -1.0000, -1.0000],\n",
      "        [-1.0000, -1.0000, -1.0000, -1.0000, -1.0000, -1.0000, -1.0000, -1.0000,\n",
      "         -1.0000, -1.0000, -1.0000, -1.0000, -1.0000, -1.0000, -1.0000, -1.0000,\n",
      "         -1.0000, -1.0000, -1.0000, -1.0000, -1.0000, -1.0000, -1.0000, -1.0000,\n",
      "         -1.0000, -1.0000, -1.0000, -1.0000],\n",
      "        [-1.0000, -1.0000, -1.0000, -1.0000, -1.0000, -1.0000, -1.0000, -1.0000,\n",
      "         -1.0000, -1.0000, -1.0000, -1.0000, -1.0000, -1.0000, -1.0000, -1.0000,\n",
      "         -1.0000, -1.0000, -1.0000, -1.0000, -1.0000, -1.0000, -1.0000, -1.0000,\n",
      "         -1.0000, -1.0000, -1.0000, -1.0000],\n",
      "        [-1.0000, -1.0000, -1.0000, -1.0000, -1.0000, -1.0000, -1.0000, -1.0000,\n",
      "         -1.0000, -1.0000, -1.0000, -1.0000, -1.0000, -1.0000, -1.0000, -1.0000,\n",
      "         -1.0000, -1.0000, -1.0000, -1.0000, -1.0000, -1.0000, -1.0000, -1.0000,\n",
      "         -1.0000, -1.0000, -1.0000, -1.0000],\n",
      "        [-1.0000, -1.0000, -1.0000, -1.0000, -1.0000, -1.0000, -1.0000, -1.0000,\n",
      "         -1.0000, -1.0000, -1.0000, -1.0000, -1.0000, -1.0000, -1.0000, -1.0000,\n",
      "         -1.0000, -1.0000, -1.0000, -1.0000, -1.0000, -1.0000, -1.0000, -1.0000,\n",
      "         -1.0000, -1.0000, -1.0000, -1.0000],\n",
      "        [-1.0000, -1.0000, -1.0000, -1.0000, -1.0000, -1.0000, -1.0000, -1.0000,\n",
      "         -1.0000, -1.0000, -1.0000, -1.0000, -1.0000, -1.0000, -1.0000, -1.0000,\n",
      "         -1.0000, -1.0000, -1.0000, -1.0000, -1.0000, -1.0000, -1.0000, -1.0000,\n",
      "         -1.0000, -1.0000, -1.0000, -1.0000],\n",
      "        [-1.0000, -1.0000, -1.0000, -1.0000, -1.0000, -1.0000, -1.0000, -1.0000,\n",
      "         -1.0000, -1.0000, -1.0000, -1.0000, -1.0000, -1.0000, -1.0000, -0.5843,\n",
      "          0.0431,  0.3098,  0.6863,  0.5216, -0.8902, -1.0000, -1.0000, -1.0000,\n",
      "         -1.0000, -1.0000, -1.0000, -1.0000],\n",
      "        [-1.0000, -1.0000, -1.0000, -1.0000, -1.0000, -1.0000, -1.0000, -1.0000,\n",
      "         -1.0000, -1.0000, -1.0000, -1.0000, -0.5765,  0.0510,  0.7176,  0.9765,\n",
      "          0.9922,  0.9922,  0.9922,  0.3412, -0.8667, -1.0000, -1.0000, -1.0000,\n",
      "         -1.0000, -1.0000, -1.0000, -1.0000],\n",
      "        [-1.0000, -1.0000, -1.0000, -1.0000, -1.0000, -1.0000, -1.0000, -1.0000,\n",
      "         -1.0000, -1.0000, -0.4980,  0.4824,  0.9608,  0.9922,  0.9922,  0.8431,\n",
      "          0.0745,  0.0588, -0.5608, -0.9294, -1.0000, -1.0000, -1.0000, -1.0000,\n",
      "         -1.0000, -1.0000, -1.0000, -1.0000],\n",
      "        [-1.0000, -1.0000, -1.0000, -1.0000, -1.0000, -1.0000, -1.0000, -1.0000,\n",
      "         -0.7647,  0.1294,  0.9529,  0.9922,  0.3882, -0.3725, -0.7961, -0.8588,\n",
      "         -1.0000, -1.0000, -1.0000, -1.0000, -1.0000, -1.0000, -1.0000, -1.0000,\n",
      "         -1.0000, -1.0000, -1.0000, -1.0000],\n",
      "        [-1.0000, -1.0000, -1.0000, -1.0000, -1.0000, -1.0000, -1.0000, -0.6235,\n",
      "          0.7961,  0.9922,  0.3725, -0.5843, -0.9294, -1.0000, -1.0000, -1.0000,\n",
      "         -1.0000, -1.0000, -1.0000, -1.0000, -1.0000, -1.0000, -0.8745, -1.0000,\n",
      "         -1.0000, -1.0000, -1.0000, -1.0000],\n",
      "        [-1.0000, -1.0000, -1.0000, -1.0000, -1.0000, -1.0000, -0.9216,  0.7569,\n",
      "          0.9922, -0.2000, -0.9373, -1.0000, -1.0000, -1.0000, -1.0000, -1.0000,\n",
      "         -1.0000, -1.0000, -1.0000, -1.0000, -0.7647,  0.1294,  0.7176, -0.7333,\n",
      "         -1.0000, -1.0000, -1.0000, -1.0000],\n",
      "        [-1.0000, -1.0000, -1.0000, -1.0000, -1.0000, -1.0000, -0.4431,  0.9922,\n",
      "          0.7020, -0.9137, -1.0000, -1.0000, -1.0000, -1.0000, -1.0000, -1.0000,\n",
      "         -0.8667, -0.3804, -0.0980,  0.4902,  0.9216,  0.9922,  0.8588, -0.6941,\n",
      "         -1.0000, -1.0000, -1.0000, -1.0000],\n",
      "        [-1.0000, -1.0000, -1.0000, -1.0000, -1.0000, -1.0000, -0.8667,  0.7961,\n",
      "          0.9922,  0.5765,  0.1765, -0.1686, -0.1686, -0.1686, -0.1686,  0.5216,\n",
      "          0.8118,  0.9529,  0.8510,  0.9216,  0.9922,  0.9765, -0.3882, -1.0000,\n",
      "         -1.0000, -1.0000, -1.0000, -1.0000],\n",
      "        [-1.0000, -1.0000, -1.0000, -1.0000, -1.0000, -1.0000, -1.0000, -0.8667,\n",
      "          0.1608,  0.5922,  0.9216,  0.9216,  0.9216,  0.9216,  0.9216,  0.4745,\n",
      "          0.0431, -0.5843, -0.8118,  0.6314,  0.9922,  0.2549, -1.0000, -1.0000,\n",
      "         -1.0000, -1.0000, -1.0000, -1.0000],\n",
      "        [-1.0000, -1.0000, -1.0000, -1.0000, -1.0000, -1.0000, -1.0000, -1.0000,\n",
      "         -1.0000, -1.0000, -1.0000, -1.0000, -1.0000, -1.0000, -1.0000, -1.0000,\n",
      "         -1.0000, -0.8275,  0.6471,  0.9922,  0.3176, -0.8745, -1.0000, -1.0000,\n",
      "         -1.0000, -1.0000, -1.0000, -1.0000],\n",
      "        [-1.0000, -1.0000, -1.0000, -1.0000, -1.0000, -1.0000, -1.0000, -1.0000,\n",
      "         -1.0000, -1.0000, -1.0000, -1.0000, -1.0000, -1.0000, -1.0000, -1.0000,\n",
      "         -0.6078,  0.6706,  1.0000,  0.5529, -0.8824, -1.0000, -1.0000, -1.0000,\n",
      "         -1.0000, -1.0000, -1.0000, -1.0000],\n",
      "        [-1.0000, -1.0000, -1.0000, -1.0000, -1.0000, -1.0000, -1.0000, -1.0000,\n",
      "         -1.0000, -1.0000, -1.0000, -1.0000, -1.0000, -1.0000, -1.0000, -0.1765,\n",
      "          0.9451,  0.9922,  0.5373, -0.8745, -1.0000, -1.0000, -1.0000, -1.0000,\n",
      "         -1.0000, -1.0000, -1.0000, -1.0000],\n",
      "        [-1.0000, -1.0000, -1.0000, -1.0000, -1.0000, -1.0000, -1.0000, -1.0000,\n",
      "         -1.0000, -1.0000, -1.0000, -1.0000, -1.0000, -1.0000, -0.1843,  0.9529,\n",
      "          0.9922, -0.0275, -0.9373, -1.0000, -1.0000, -1.0000, -1.0000, -1.0000,\n",
      "         -1.0000, -1.0000, -1.0000, -1.0000],\n",
      "        [-1.0000, -1.0000, -1.0000, -1.0000, -1.0000, -1.0000, -1.0000, -1.0000,\n",
      "         -1.0000, -1.0000, -1.0000, -1.0000, -1.0000, -0.1686,  0.9294,  1.0000,\n",
      "         -0.0275, -0.9843, -1.0000, -1.0000, -1.0000, -1.0000, -1.0000, -1.0000,\n",
      "         -1.0000, -1.0000, -1.0000, -1.0000],\n",
      "        [-1.0000, -1.0000, -1.0000, -1.0000, -1.0000, -1.0000, -1.0000, -1.0000,\n",
      "         -1.0000, -1.0000, -1.0000, -1.0000, -0.1608,  0.9137,  0.9922,  0.5529,\n",
      "         -0.9686, -1.0000, -1.0000, -1.0000, -1.0000, -1.0000, -1.0000, -1.0000,\n",
      "         -1.0000, -1.0000, -1.0000, -1.0000],\n",
      "        [-1.0000, -1.0000, -1.0000, -1.0000, -1.0000, -1.0000, -1.0000, -1.0000,\n",
      "         -1.0000, -1.0000, -1.0000, -0.7255,  0.9059,  0.9765,  0.2392, -0.8824,\n",
      "         -1.0000, -1.0000, -1.0000, -1.0000, -1.0000, -1.0000, -1.0000, -1.0000,\n",
      "         -1.0000, -1.0000, -1.0000, -1.0000],\n",
      "        [-1.0000, -1.0000, -1.0000, -1.0000, -1.0000, -1.0000, -1.0000, -1.0000,\n",
      "         -1.0000, -1.0000, -0.8039,  0.6235,  0.9922,  0.0588, -1.0000, -1.0000,\n",
      "         -1.0000, -1.0000, -1.0000, -1.0000, -1.0000, -1.0000, -1.0000, -1.0000,\n",
      "         -1.0000, -1.0000, -1.0000, -1.0000],\n",
      "        [-1.0000, -1.0000, -1.0000, -1.0000, -1.0000, -1.0000, -1.0000, -1.0000,\n",
      "         -1.0000, -0.7569,  0.6235,  0.9922,  0.5529, -0.8667, -1.0000, -1.0000,\n",
      "         -1.0000, -1.0000, -1.0000, -1.0000, -1.0000, -1.0000, -1.0000, -1.0000,\n",
      "         -1.0000, -1.0000, -1.0000, -1.0000],\n",
      "        [-1.0000, -1.0000, -1.0000, -1.0000, -1.0000, -1.0000, -1.0000, -1.0000,\n",
      "         -1.0000,  0.7176,  0.9922,  0.3176, -0.8667, -1.0000, -1.0000, -1.0000,\n",
      "         -1.0000, -1.0000, -1.0000, -1.0000, -1.0000, -1.0000, -1.0000, -1.0000,\n",
      "         -1.0000, -1.0000, -1.0000, -1.0000],\n",
      "        [-1.0000, -1.0000, -1.0000, -1.0000, -1.0000, -1.0000, -1.0000, -1.0000,\n",
      "         -1.0000,  0.7176,  0.3176, -0.8745, -1.0000, -1.0000, -1.0000, -1.0000,\n",
      "         -1.0000, -1.0000, -1.0000, -1.0000, -1.0000, -1.0000, -1.0000, -1.0000,\n",
      "         -1.0000, -1.0000, -1.0000, -1.0000],\n",
      "        [-1.0000, -1.0000, -1.0000, -1.0000, -1.0000, -1.0000, -1.0000, -1.0000,\n",
      "         -1.0000, -1.0000, -1.0000, -1.0000, -1.0000, -1.0000, -1.0000, -1.0000,\n",
      "         -1.0000, -1.0000, -1.0000, -1.0000, -1.0000, -1.0000, -1.0000, -1.0000,\n",
      "         -1.0000, -1.0000, -1.0000, -1.0000],\n",
      "        [-1.0000, -1.0000, -1.0000, -1.0000, -1.0000, -1.0000, -1.0000, -1.0000,\n",
      "         -1.0000, -1.0000, -1.0000, -1.0000, -1.0000, -1.0000, -1.0000, -1.0000,\n",
      "         -1.0000, -1.0000, -1.0000, -1.0000, -1.0000, -1.0000, -1.0000, -1.0000,\n",
      "         -1.0000, -1.0000, -1.0000, -1.0000]])\n"
     ]
    },
    {
     "data": {
      "text/plain": [
       "torch.Size([28, 28])"
      ]
     },
     "execution_count": 4,
     "metadata": {},
     "output_type": "execute_result"
    }
   ],
   "source": [
    "examples = enumerate(data_loader_train)\n",
    "batch_idx, (example_data, example_targets) = next(examples)\n",
    "print(example_data[0][0])\n",
    "example_data[0][0].shape"
   ]
  },
  {
   "cell_type": "code",
   "execution_count": 5,
   "id": "5e924a9b",
   "metadata": {},
   "outputs": [
    {
     "name": "stderr",
     "output_type": "stream",
     "text": [
      "/tmp/ipykernel_30196/1766397098.py:6: UserWarning: The figure layout has changed to tight\n",
      "  plt.tight_layout()\n"
     ]
    },
    {
     "data": {
      "image/png": "[encoded data removed]",
      "text/plain": [
       "<Figure size 640x480 with 6 Axes>"
      ]
     },
     "execution_count": 5,
     "metadata": {},
     "output_type": "execute_result"
    },
    {
     "data": {
      "image/png": "[encoded data removed]",
      "text/plain": [
       "<Figure size 640x480 with 6 Axes>"
      ]
     },
     "metadata": {},
     "output_type": "display_data"
    }
   ],
   "source": [
    "import matplotlib.pyplot as plt\n",
    "\n",
    "fig = plt.figure()\n",
    "for i in range(6):\n",
    "  plt.subplot(2,3,i+1)\n",
    "  plt.tight_layout()\n",
    "  plt.imshow(example_data[i][0], cmap='gray', interpolation='none')\n",
    "  plt.title(\"Ground Truth: {}\".format(example_targets[i]))\n",
    "  plt.xticks([])\n",
    "  plt.yticks([])\n",
    "fig"
   ]
  },
  {
   "cell_type": "code",
   "execution_count": 6,
   "id": "68edbf14",
   "metadata": {},
   "outputs": [],
   "source": [
    "input_size = 1*28*28      \n",
    "hidden1 = 64      \n",
    "hidden2 = 64\n",
    "hidden3 = 64\n",
    "weight_bit_width = 8\n",
    "act_bit_width = 8\n",
    "num_classes = 10  "
   ]
  },
  {
   "cell_type": "code",
   "execution_count": 7,
   "id": "a7bf6c38",
   "metadata": {},
   "outputs": [],
   "source": [
    "import brevitas.nn as qnn\n",
    "from brevitas.nn import QuantLinear, QuantReLU\n",
    "import torch.nn as nn\n",
    "from torch.nn import Module\n",
    "from brevitas.quant.binary import SignedBinaryActPerTensorConst\n",
    "from brevitas.quant.binary import SignedBinaryWeightPerTensorConst\n",
    "from brevitas.inject.enum import QuantType\n",
    "\n",
    "# Setting seeds for reproducibility\n",
    "torch.manual_seed(0)\n",
    "\n",
    "class TFC_W8A8(Module):\n",
    "    def __init__(self):\n",
    "        super(TFC_W8A8, self).__init__()\n",
    "        \n",
    "        self.input = qnn.QuantIdentity(\n",
    "                         quant_type='int',\n",
    "                         scaling_impl_type='const',\n",
    "                         bit_width=act_bit_width,\n",
    "                         min_val=-128.0,\n",
    "                         max_val=127.0, \n",
    "                         return_quant_tensor=True\n",
    "                     )\n",
    "        \n",
    "        self.fc1   = qnn.QuantLinear(\n",
    "                         input_size, \n",
    "                         hidden1, \n",
    "                         weight_bit_width=weight_bit_width,\n",
    "                         weight_quant_type=QuantType.INT,\n",
    "                         bias=False\n",
    "                     )\n",
    "        \n",
    "        self.bn1   = nn.BatchNorm1d(hidden1)\n",
    "        self.silu1 =  nn.SiLU()\n",
    "        self.requant1 = qnn.QuantIdentity(\n",
    "                         quant_type='int',\n",
    "                         scaling_impl_type='const',\n",
    "                         bit_width=act_bit_width,\n",
    "                         min_val=-128.0,\n",
    "                         max_val=127.0, \n",
    "                         return_quant_tensor=True\n",
    "                     )\n",
    "        \n",
    "        self.fc2   = qnn.QuantLinear(\n",
    "                         hidden1, \n",
    "                         hidden2, \n",
    "                         weight_bit_width=weight_bit_width,\n",
    "                         weight_quant_type=QuantType.INT,\n",
    "                         bias=False\n",
    "                     )\n",
    "        self.bn2   = nn.BatchNorm1d(hidden2)\n",
    "        self.silu2 =  nn.SiLU()\n",
    "        self.requant2 = qnn.QuantIdentity(\n",
    "                         quant_type='int',\n",
    "                         scaling_impl_type='const',\n",
    "                         bit_width=act_bit_width,\n",
    "                         min_val=-128.0,\n",
    "                         max_val=127.0, \n",
    "                         return_quant_tensor=True\n",
    "                     )\n",
    "        \n",
    "        \n",
    "        self.fc3   = qnn.QuantLinear(\n",
    "                         hidden2, \n",
    "                         hidden3, \n",
    "                         weight_bit_width=weight_bit_width,\n",
    "                         weight_quant_type=QuantType.INT,\n",
    "                         bias=False\n",
    "                     )\n",
    "        self.bn3   = nn.BatchNorm1d(hidden3)\n",
    "        self.silu3 =  nn.SiLU()\n",
    "        self.requant3 = qnn.QuantIdentity(\n",
    "                         quant_type='int',\n",
    "                         scaling_impl_type='const',\n",
    "                         bit_width=act_bit_width,\n",
    "                         min_val=-128.0,\n",
    "                         max_val=127.0, \n",
    "                         return_quant_tensor=True\n",
    "                     )\n",
    "        \n",
    "        \n",
    "        self.out   = qnn.QuantLinear(\n",
    "                         hidden3, \n",
    "                         num_classes, \n",
    "                         weight_bit_width=weight_bit_width,\n",
    "                         weight_quant_type=QuantType.INT,\n",
    "                         bias=False\n",
    "                     )\n",
    "        \n",
    "        self.accu_min_1 = 65535.0\n",
    "        self.accu_max_1 = 0.0\n",
    "        \n",
    "        self.bn_min_1 = 65535.0\n",
    "        self.bn_max_1 = 0.0\n",
    "        \n",
    "        self.out_min_1 = 65535.0\n",
    "        self.out_max_1 = 0.0\n",
    "        \n",
    "        self.accu_min_2 = 65535.0\n",
    "        self.accu_max_2 = 0.0\n",
    "        \n",
    "        self.bn_min_2 = 65535.0\n",
    "        self.bn_max_2 = 0.0\n",
    "        \n",
    "        self.out_min_2 = 65535.0\n",
    "        self.out_max_2 = 0.0\n",
    "        \n",
    "        self.accu_min_3 = 65535.0\n",
    "        self.accu_max_3 = 0.0\n",
    "        \n",
    "        self.bn_min_3 = 65535.0\n",
    "        self.bn_max_3 = 0.0\n",
    "        \n",
    "        self.out_min_3 = 65535.0\n",
    "        self.out_max_3 = 0.0\n",
    "\n",
    "    def forward(self, x, en):\n",
    "        \n",
    "        out = x.reshape(x.shape[0], -1)\n",
    "        out = self.input(out)\n",
    "        \n",
    "        #out = self.sigmoid1(self.bn1(self.fc1(out)))\n",
    "        out=self.fc1(out)\n",
    "        if (en==True):\n",
    "            if (out.max()>self.accu_max_1):\n",
    "                self.accu_max_1 = out.max()\n",
    "            if (out.min()<self.accu_min_1):\n",
    "                self.accu_min_1 = out.min()\n",
    "        out=self.bn1(out)\n",
    "        if (en==True):\n",
    "            if (out.max()>self.bn_max_1):\n",
    "                self.bn_max_1 = out.max()\n",
    "            if (out.min()<self.bn_min_1):\n",
    "                self.bn_min_1 = out.min()\n",
    "        out=self.requant1(self.silu1(out))\n",
    "        if (en==True):\n",
    "            if (out.value.max()>self.out_max_1):\n",
    "                self.out_max_1 = out.value.max()\n",
    "            if (out.value.min()<self.out_min_1):\n",
    "                self.out_min_1 = out.value.min()\n",
    "                \n",
    "        #out = self.relu2(self.bn2(self.fc2(out)))\n",
    "        out=self.fc2(out)\n",
    "        if (en==True):\n",
    "            if (out.max()>self.accu_max_2):\n",
    "                self.accu_max_2 = out.max()\n",
    "            if (out.min()<self.accu_min_2):\n",
    "                self.accu_min_2 = out.min()\n",
    "        out=self.bn2(out)\n",
    "        if (en==True):\n",
    "            if (out.max()>self.bn_max_2):\n",
    "                self.bn_max_2 = out.max()\n",
    "            if (out.min()<self.bn_min_2):\n",
    "                self.bn_min_2 = out.min()\n",
    "        out=self.requant2(self.silu2(out))\n",
    "        if (en==True):\n",
    "            if (out.value.max()>self.out_max_2):\n",
    "                self.out_max_2 = out.value.max()\n",
    "            if (out.value.min()<self.out_min_2):\n",
    "                self.out_min_2 = out.value.min()\n",
    "                \n",
    "        #out = self.relu3(self.bn3(self.fc3(out)))\n",
    "        out=self.fc3(out)\n",
    "        if (en==True):\n",
    "            if (out.max()>self.accu_max_3):\n",
    "                self.accu_max_3 = out.max()\n",
    "            if (out.min()<self.accu_min_3):\n",
    "                self.accu_min_3 = out.min()\n",
    "        out=self.bn3(out)\n",
    "        if (en==True):\n",
    "            if (out.max()>self.bn_max_3):\n",
    "                self.bn_max_3 = out.max()\n",
    "            if (out.min()<self.bn_min_3):\n",
    "                self.bn_min_3 = out.min()\n",
    "        out=self.requant3(self.silu3(out))\n",
    "        if (en==True):\n",
    "            if (out.value.max()>self.out_max_3):\n",
    "                self.out_max_3 = out.value.max()\n",
    "            if (out.value.min()<self.out_min_3):\n",
    "                self.out_min_3 = out.value.min()\n",
    "                \n",
    "        out = self.out(out)\n",
    "        \n",
    "        return out\n",
    "   \n",
    "model = TFC_W8A8()"
   ]
  },
  {
   "cell_type": "code",
   "execution_count": 8,
   "id": "bef40381",
   "metadata": {},
   "outputs": [],
   "source": [
    "def train(model, train_loader, optimizer, criterion):\n",
    "    losses = []\n",
    "    # ensure model is in training mode\n",
    "    model.train()    \n",
    "    \n",
    "    for i, data in enumerate(train_loader, 0):        \n",
    "        inputs, target = data\n",
    "        #inputs, target = inputs.cuda(), target.cuda()\n",
    "        inputs, target = Variable(inputs), Variable(target)\n",
    "        \n",
    "        outputs = model(inputs, False)\n",
    "        _,pred = torch.max(outputs.data,1)\n",
    "        \n",
    "        optimizer.zero_grad()\n",
    "        loss = criterion(outputs,target)\n",
    " \n",
    "        loss.backward()\n",
    "        optimizer.step()\n",
    "        \n",
    "        # keep track of loss value\n",
    "        losses.append(loss.data.numpy()) \n",
    "           \n",
    "    return losses"
   ]
  },
  {
   "cell_type": "code",
   "execution_count": 9,
   "id": "1ee01aea",
   "metadata": {},
   "outputs": [],
   "source": [
    "import torch\n",
    "from sklearn.metrics import accuracy_score\n",
    "\n",
    "def test(model, test_loader, enable=False):    \n",
    "    # ensure model is in eval mode\n",
    "    model.eval() \n",
    "    y_true = []\n",
    "    y_pred = []\n",
    "   \n",
    "    with torch.no_grad():\n",
    "        for data in test_loader:\n",
    "            inputs, target = data\n",
    "            #inputs, target = inputs.cuda(), target.cuda()\n",
    "            inputs, target = Variable(inputs),Variable(target)\n",
    "            output = model(inputs, enable)\n",
    "            _,pred = torch.max(output,1)\n",
    "            y_true.extend(target.tolist()) \n",
    "            y_pred.extend(pred.reshape(-1).tolist())\n",
    "        \n",
    "    return accuracy_score(y_true, y_pred)"
   ]
  },
  {
   "cell_type": "code",
   "execution_count": 10,
   "id": "0af35e3c",
   "metadata": {},
   "outputs": [],
   "source": [
    "num_epochs = 10\n",
    "learn_rate = 0.001 \n",
    "\n",
    "def display_loss_plot(losses, title=\"Training loss\", xlabel=\"Iterations\", ylabel=\"Loss\"):\n",
    "    x_axis = [i for i in range(len(losses))]\n",
    "    plt.plot(x_axis,losses)\n",
    "    plt.title(title)\n",
    "    plt.xlabel(xlabel)\n",
    "    plt.ylabel(ylabel)\n",
    "    plt.show()"
   ]
  },
  {
   "cell_type": "code",
   "execution_count": 11,
   "id": "03deb083",
   "metadata": {},
   "outputs": [],
   "source": [
    "# loss criterion and optimizer\n",
    "criterion = torch.nn.CrossEntropyLoss()\n",
    "optimizer = torch.optim.Adam(model.parameters(), lr=learn_rate, betas=(0.9, 0.999))"
   ]
  },
  {
   "cell_type": "code",
   "execution_count": 12,
   "id": "ff545543",
   "metadata": {
    "scrolled": true
   },
   "outputs": [
    {
     "name": "stderr",
     "output_type": "stream",
     "text": [
      "Training loss = 0.061948 test accuracy = 0.972700: 100%|█| 10/10 [03:51<00:00, 2\n"
     ]
    }
   ],
   "source": [
    "import numpy as np\n",
    "from sklearn.metrics import accuracy_score\n",
    "from tqdm import tqdm, trange\n",
    "\n",
    "# Setting seeds for reproducibility\n",
    "torch.manual_seed(0)\n",
    "np.random.seed(0)\n",
    "\n",
    "running_loss = []\n",
    "running_test_acc = []\n",
    "t = trange(num_epochs, desc=\"Training loss\", leave=True)\n",
    "\n",
    "for epoch in t:\n",
    "        loss_epoch = train(model, data_loader_train, optimizer, criterion)\n",
    "        test_acc = test(model, data_loader_test)\n",
    "        t.set_description(\"Training loss = %f test accuracy = %f\" % (np.mean(loss_epoch), test_acc))\n",
    "        t.refresh() # to show immediately the update           \n",
    "        running_loss.append(loss_epoch)\n",
    "        running_test_acc.append(test_acc)"
   ]
  },
  {
   "cell_type": "code",
   "execution_count": 13,
   "id": "985970e2",
   "metadata": {
    "scrolled": true
   },
   "outputs": [
    {
     "data": {
      "image/png": "[encoded data removed]",
      "text/plain": [
       "<Figure size 640x480 with 1 Axes>"
      ]
     },
     "metadata": {},
     "output_type": "display_data"
    }
   ],
   "source": [
    "%matplotlib inline\n",
    "import matplotlib.pyplot as plt\n",
    "\n",
    "loss_per_epoch = [np.mean(loss_per_epoch) for loss_per_epoch in running_loss]\n",
    "display_loss_plot(loss_per_epoch)"
   ]
  },
  {
   "cell_type": "code",
   "execution_count": 14,
   "id": "f3699441",
   "metadata": {
    "scrolled": true
   },
   "outputs": [
    {
     "data": {
      "image/png": "[encoded data removed]",
      "text/plain": [
       "<Figure size 640x480 with 1 Axes>"
      ]
     },
     "metadata": {},
     "output_type": "display_data"
    }
   ],
   "source": [
    "acc_per_epoch = [np.mean(acc_per_epoch) for acc_per_epoch in running_test_acc]\n",
    "display_loss_plot(acc_per_epoch, title=\"Test accuracy\", ylabel=\"Accuracy [%]\")"
   ]
  },
  {
   "cell_type": "code",
   "execution_count": 15,
   "id": "21d0b2aa",
   "metadata": {},
   "outputs": [
    {
     "data": {
      "text/plain": [
       "0.9727"
      ]
     },
     "execution_count": 15,
     "metadata": {},
     "output_type": "execute_result"
    }
   ],
   "source": [
    "test(model, data_loader_test, True)"
   ]
  },
  {
   "cell_type": "code",
   "execution_count": 16,
   "id": "bd73daf4-df51-4036-a373-2f509e55cf69",
   "metadata": {},
   "outputs": [],
   "source": [
    "test_1_in = torch.from_numpy(np.ones((1000,64)).astype('f'))\n",
    "test_1_out = model.requant1(model.silu1(model.bn1(test_1_in)))\n",
    "scale_1 = test_1_out.scale.cpu().detach().numpy()\n",
    "zero_point_1 = test_1_out.zero_point.cpu().detach().numpy()\n",
    "\n",
    "test_2_in = torch.from_numpy(np.ones((1000,64)).astype('f'))\n",
    "test_2_out = model.requant2(model.silu2(model.bn2(test_2_in)))\n",
    "scale_2 = test_2_out.scale.cpu().detach().numpy()\n",
    "zero_point_2 = test_2_out.zero_point.cpu().detach().numpy()\n",
    "\n",
    "test_3_in = torch.from_numpy(np.ones((1000,64)).astype('f'))\n",
    "test_3_out = model.requant3(model.silu3(model.bn3(test_3_in)))\n",
    "scale_3 = test_3_out.scale.cpu().detach().numpy()\n",
    "zero_point_3 = test_3_out.zero_point.cpu().detach().numpy()"
   ]
  },
  {
   "cell_type": "code",
   "execution_count": 17,
   "id": "8426257e",
   "metadata": {},
   "outputs": [
    {
     "name": "stdout",
     "output_type": "stream",
     "text": [
      "Layer 1:\n",
      "\n",
      " Accumulator Output Range: [ tensor(-34.3131) ,  tensor(25.2390) ]\n",
      "\n",
      " BN Output Range: [ tensor(-13.4797) ,  tensor(8.2701) ]\n",
      "\n",
      " Multi-Threshold Output Range: [ tensor(0.) ,  tensor(8.) ]\n",
      "\n",
      " A2B Scale factor:  0.3652\n",
      " B2M Scale factor:  0.3678\n",
      " A2M Scale factor:  0.1343 \n",
      "\n",
      "Layer 2:\n",
      "\n",
      " Accumulator Output Range: [ tensor(-8.0915) ,  tensor(6.4877) ]\n",
      "\n",
      " BN Output Range: [ tensor(-7.7565) ,  tensor(8.3532) ]\n",
      "\n",
      " Multi-Threshold Output Range: [ tensor(0.) ,  tensor(8.) ]\n",
      "\n",
      " A2B Scale factor:  1.1050\n",
      " B2M Scale factor:  0.4966\n",
      " A2M Scale factor:  0.5487 \n",
      "\n",
      "Layer 3:\n",
      "\n",
      " Accumulator Output Range: [ tensor(-7.2299) ,  tensor(7.2964) ]\n",
      "\n",
      " BN Output Range: [ tensor(-5.4553) ,  tensor(7.3195) ]\n",
      "\n",
      " Multi-Threshold Output Range: [ tensor(0.) ,  tensor(7.) ]\n",
      "\n",
      " A2B Scale factor:  0.8794\n",
      " B2M Scale factor:  0.5480\n",
      " A2M Scale factor:  0.4819 \n",
      "\n"
     ]
    }
   ],
   "source": [
    "print(\"Layer 1:\\n\")\n",
    "print(\" Accumulator Output Range: [\", model.accu_min_1, \", \", model.accu_max_1, \"]\\n\") \n",
    "print(\" BN Output Range: [\", model.bn_min_1, \", \", model.bn_max_1, \"]\\n\") \n",
    "print(\" Multi-Threshold Output Range: [\", model.out_min_1/scale_1+zero_point_1, \", \", model.out_max_1/scale_1+zero_point_1, \"]\\n\") \n",
    "print(\" A2B Scale factor: \", \"%.4f\" %((model.bn_max_1-model.bn_min_1)/(model.accu_max_1-model.accu_min_1))) \n",
    "print(\" B2M Scale factor: \", \"%.4f\" %(((model.out_max_1-model.out_min_1)/scale_1+zero_point_1)/(model.bn_max_1-model.bn_min_1))) \n",
    "print(\" A2M Scale factor: \", \"%.4f\" %(((model.out_max_1-model.out_min_1)/scale_1+zero_point_1)/(model.accu_max_1-model.accu_min_1)), \"\\n\")\n",
    "\n",
    "print(\"Layer 2:\\n\") \n",
    "print(\" Accumulator Output Range: [\", model.accu_min_2, \", \", model.accu_max_2, \"]\\n\") \n",
    "print(\" BN Output Range: [\", model.bn_min_2, \", \", model.bn_max_2, \"]\\n\") \n",
    "print(\" Multi-Threshold Output Range: [\", model.out_min_2/scale_2+zero_point_2, \", \", model.out_max_2/scale_2+zero_point_2, \"]\\n\") \n",
    "print(\" A2B Scale factor: \", \"%.4f\" %((model.bn_max_2-model.bn_min_2)/(model.accu_max_2-model.accu_min_2))) \n",
    "print(\" B2M Scale factor: \", \"%.4f\" %(((model.out_max_2-model.out_min_2)/scale_2+zero_point_2)/(model.bn_max_2-model.bn_min_2))) \n",
    "print(\" A2M Scale factor: \", \"%.4f\" %(((model.out_max_2-model.out_min_2)/scale_2+zero_point_2)/(model.accu_max_2-model.accu_min_2)), \"\\n\")\n",
    "\n",
    "print(\"Layer 3:\\n\") \n",
    "print(\" Accumulator Output Range: [\", model.accu_min_3, \", \", model.accu_max_3, \"]\\n\") \n",
    "print(\" BN Output Range: [\", model.bn_min_3, \", \", model.bn_max_3, \"]\\n\") \n",
    "print(\" Multi-Threshold Output Range: [\", model.out_min_3/scale_3+zero_point_3, \", \", model.out_max_3/scale_3+zero_point_3, \"]\\n\") \n",
    "print(\" A2B Scale factor: \", \"%.4f\" %((model.bn_max_3-model.bn_min_3)/(model.accu_max_3-model.accu_min_3))) \n",
    "print(\" B2M Scale factor: \", \"%.4f\" %(((model.out_max_3-model.out_min_3)/scale_3+zero_point_3)/(model.bn_max_3-model.bn_min_3))) \n",
    "print(\" A2M Scale factor: \", \"%.4f\" %(((model.out_max_3-model.out_min_3)/scale_3+zero_point_3)/(model.accu_max_3-model.accu_min_3)), \"\\n\")"
   ]
  },
  {
   "cell_type": "code",
   "execution_count": null,
   "id": "8357f90c-3931-40a5-b40c-e30b8686f464",
   "metadata": {},
   "outputs": [],
   "source": []
  }
 ],
 "metadata": {
  "kernelspec": {
   "display_name": "Python 3 (ipykernel)",
   "language": "python",
   "name": "python3"
  },
  "language_info": {
   "codemirror_mode": {
    "name": "ipython",
    "version": 3
   },
   "file_extension": ".py",
   "mimetype": "text/x-python",
   "name": "python",
   "nbconvert_exporter": "python",
   "pygments_lexer": "ipython3",
   "version": "3.8.19"
  }
 },
 "nbformat": 4,
 "nbformat_minor": 5
}
