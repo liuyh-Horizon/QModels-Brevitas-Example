{
 "cells": [
  {
   "cell_type": "code",
   "execution_count": 1,
   "id": "7128dd4e",
   "metadata": {},
   "outputs": [
    {
     "name": "stderr",
     "output_type": "stream",
     "text": [
      "/home/ieyuhaoliu/anaconda3/envs/brevitas/lib/python3.8/site-packages/torchvision/io/image.py:13: UserWarning: Failed to load image Python extension: /home/ieyuhaoliu/anaconda3/envs/brevitas/lib/python3.8/site-packages/torchvision/image.so: undefined symbol: _ZN5torch3jit17parseSchemaOrNameERKSs\n",
      "  warn(f\"Failed to load image Python extension: {e}\")\n"
     ]
    }
   ],
   "source": [
    "import torchvision\n",
    "from torchvision import datasets\n",
    "from torchvision import transforms\n",
    "from torch.autograd import Variable"
   ]
  },
  {
   "cell_type": "code",
   "execution_count": 2,
   "id": "4506c37b-0d14-4dd7-bd5d-755083f6c8c4",
   "metadata": {},
   "outputs": [],
   "source": [
    "data_train = torchvision.datasets.MNIST('./data/', \n",
    "                                        train=True, download=True,\n",
    "                                        transform=torchvision.transforms.Compose\n",
    "                                        ([\n",
    "                                            torchvision.transforms.ToTensor(),\n",
    "                                            #torchvision.transforms.Normalize((0.1307,), (0.3081,))\n",
    "                                            torchvision.transforms.Normalize((0.5,), (0.5,))\n",
    "                                        ]))\n",
    "data_test = torchvision.datasets.MNIST('./data/', \n",
    "                                       train=False, download=True,\n",
    "                                       transform=torchvision.transforms.Compose\n",
    "                                       ([\n",
    "                                            torchvision.transforms.ToTensor(),\n",
    "                                            #torchvision.transforms.Normalize((0.1307,), (0.3081,))\n",
    "                                            torchvision.transforms.Normalize((0.5,), (0.5,))\n",
    "                                       ]))"
   ]
  },
  {
   "cell_type": "code",
   "execution_count": 3,
   "id": "f8cdec15",
   "metadata": {},
   "outputs": [],
   "source": [
    "import torch\n",
    "\n",
    "batch_size_train = 64\n",
    "batch_size_test = 1000\n",
    "\n",
    "data_loader_train = torch.utils.data.DataLoader(dataset=data_train,\n",
    "                                                batch_size=batch_size_train, \n",
    "                                                shuffle=True)\n",
    "\n",
    "data_loader_test = torch.utils.data.DataLoader(dataset=data_test,\n",
    "                                               batch_size=batch_size_test, \n",
    "                                               shuffle=True)"
   ]
  },
  {
   "cell_type": "code",
   "execution_count": 4,
   "id": "b3613886",
   "metadata": {},
   "outputs": [
    {
     "name": "stdout",
     "output_type": "stream",
     "text": [
      "tensor([[-1.0000, -1.0000, -1.0000, -1.0000, -1.0000, -1.0000, -1.0000, -1.0000,\n",
      "         -1.0000, -1.0000, -1.0000, -1.0000, -1.0000, -1.0000, -1.0000, -1.0000,\n",
      "         -1.0000, -1.0000, -1.0000, -1.0000, -1.0000, -1.0000, -1.0000, -1.0000,\n",
      "         -1.0000, -1.0000, -1.0000, -1.0000],\n",
      "        [-1.0000, -1.0000, -1.0000, -1.0000, -1.0000, -1.0000, -1.0000, -1.0000,\n",
      "         -1.0000, -1.0000, -1.0000, -1.0000, -1.0000, -1.0000, -1.0000, -1.0000,\n",
      "         -1.0000, -1.0000, -1.0000, -1.0000, -1.0000, -1.0000, -1.0000, -1.0000,\n",
      "         -1.0000, -1.0000, -1.0000, -1.0000],\n",
      "        [-1.0000, -1.0000, -1.0000, -1.0000, -1.0000, -1.0000, -1.0000, -1.0000,\n",
      "         -1.0000, -1.0000, -1.0000, -1.0000, -1.0000, -1.0000, -1.0000, -1.0000,\n",
      "         -1.0000, -1.0000, -1.0000, -1.0000, -1.0000, -1.0000, -1.0000, -1.0000,\n",
      "         -1.0000, -1.0000, -1.0000, -1.0000],\n",
      "        [-1.0000, -1.0000, -1.0000, -1.0000, -1.0000, -1.0000, -1.0000, -1.0000,\n",
      "         -1.0000, -1.0000, -1.0000, -1.0000, -1.0000, -1.0000, -1.0000, -1.0000,\n",
      "         -1.0000, -1.0000, -1.0000, -1.0000, -1.0000, -1.0000, -1.0000, -1.0000,\n",
      "         -1.0000, -1.0000, -1.0000, -1.0000],\n",
      "        [-1.0000, -1.0000, -1.0000, -1.0000, -1.0000, -1.0000, -1.0000, -1.0000,\n",
      "         -1.0000, -1.0000, -1.0000, -1.0000, -1.0000, -1.0000, -1.0000, -1.0000,\n",
      "         -0.6235, -0.3725, -0.3725, -0.8902, -1.0000, -1.0000, -1.0000, -1.0000,\n",
      "         -1.0000, -1.0000, -1.0000, -1.0000],\n",
      "        [-1.0000, -1.0000, -1.0000, -1.0000, -1.0000, -1.0000, -1.0000, -1.0000,\n",
      "         -1.0000, -1.0000, -1.0000, -1.0000, -1.0000, -1.0000, -1.0000, -0.6471,\n",
      "          0.6863,  0.9922,  0.9922,  0.3725, -0.3098, -1.0000, -1.0000, -1.0000,\n",
      "         -1.0000, -1.0000, -1.0000, -1.0000],\n",
      "        [-1.0000, -1.0000, -1.0000, -1.0000, -1.0000, -1.0000, -1.0000, -1.0000,\n",
      "         -1.0000, -1.0000, -1.0000, -1.0000, -1.0000, -0.8275,  0.3961,  0.9059,\n",
      "          0.9922,  0.9922,  0.9922,  0.9922,  0.9373, -0.2157, -1.0000, -1.0000,\n",
      "         -1.0000, -1.0000, -1.0000, -1.0000],\n",
      "        [-1.0000, -1.0000, -1.0000, -1.0000, -1.0000, -1.0000, -1.0000, -1.0000,\n",
      "         -1.0000, -1.0000, -1.0000, -1.0000, -0.9608,  0.4196,  0.9922,  0.9922,\n",
      "          0.9922,  0.9922,  0.9922,  0.9922,  0.9922,  0.8588, -1.0000, -1.0000,\n",
      "         -1.0000, -1.0000, -1.0000, -1.0000],\n",
      "        [-1.0000, -1.0000, -1.0000, -1.0000, -1.0000, -1.0000, -1.0000, -1.0000,\n",
      "         -1.0000, -1.0000, -0.9608, -0.6471,  0.3647,  0.9922,  0.9922,  0.9922,\n",
      "          0.9922,  0.6863,  0.6471,  0.9373,  0.9922,  0.9765,  0.6000, -0.5686,\n",
      "         -1.0000, -1.0000, -1.0000, -1.0000],\n",
      "        [-1.0000, -1.0000, -1.0000, -1.0000, -1.0000, -1.0000, -1.0000, -1.0000,\n",
      "         -1.0000, -1.0000, -0.7882,  0.9922,  0.9922,  0.9922,  0.9922,  0.9922,\n",
      "          0.4196, -0.8980, -1.0000, -0.1373,  0.0275,  0.7647,  0.6000, -0.0275,\n",
      "         -1.0000, -1.0000, -1.0000, -1.0000],\n",
      "        [-1.0000, -1.0000, -1.0000, -1.0000, -1.0000, -1.0000, -1.0000, -1.0000,\n",
      "         -0.9608, -0.1137,  0.6314,  0.9922,  0.9922,  0.9922,  0.8588, -0.5529,\n",
      "         -0.8275, -1.0000, -1.0000, -0.8039,  0.4824,  0.8980,  0.9922,  0.0353,\n",
      "         -1.0000, -1.0000, -1.0000, -1.0000],\n",
      "        [-1.0000, -1.0000, -1.0000, -1.0000, -1.0000, -1.0000, -1.0000, -0.5294,\n",
      "          0.0353,  0.9922,  0.9922,  0.9922,  0.9686,  0.1608, -0.6000, -1.0000,\n",
      "         -1.0000, -1.0000, -1.0000, -0.8824,  0.3569,  0.9922,  0.9922,  0.4196,\n",
      "         -1.0000, -1.0000, -1.0000, -1.0000],\n",
      "        [-1.0000, -1.0000, -1.0000, -1.0000, -1.0000, -1.0000, -0.9765,  0.1373,\n",
      "          0.9922,  0.9922,  0.9922,  0.9294,  0.8588, -1.0000, -1.0000, -1.0000,\n",
      "         -1.0000, -1.0000, -1.0000, -0.6706,  0.9922,  0.9922,  0.9922,  0.5686,\n",
      "         -1.0000, -1.0000, -1.0000, -1.0000],\n",
      "        [-1.0000, -1.0000, -1.0000, -1.0000, -1.0000, -1.0000, -0.5137,  0.9922,\n",
      "          0.9922,  0.9922,  0.7882, -1.0000, -1.0000, -1.0000, -1.0000, -1.0000,\n",
      "         -1.0000, -1.0000, -1.0000,  0.1843,  0.9922,  0.9922,  0.9922, -0.3882,\n",
      "         -1.0000, -1.0000, -1.0000, -1.0000],\n",
      "        [-1.0000, -1.0000, -1.0000, -1.0000, -1.0000, -0.1686,  0.4824,  0.9922,\n",
      "          0.9922,  0.3569, -0.3882, -1.0000, -1.0000, -1.0000, -1.0000, -1.0000,\n",
      "         -1.0000, -1.0000, -0.3098,  0.4118,  0.9922,  0.9922,  0.4902, -0.7882,\n",
      "         -1.0000, -1.0000, -1.0000, -1.0000],\n",
      "        [-1.0000, -1.0000, -1.0000, -1.0000, -0.8196,  0.4510,  0.9922,  0.9922,\n",
      "          0.8980, -0.2549, -1.0000, -1.0000, -1.0000, -1.0000, -1.0000, -1.0000,\n",
      "         -1.0000, -0.4980,  0.3020,  0.9922,  0.9922,  0.9608, -0.1059, -1.0000,\n",
      "         -1.0000, -1.0000, -1.0000, -1.0000],\n",
      "        [-1.0000, -1.0000, -1.0000, -1.0000, -0.7412,  0.5529,  0.9922,  0.9922,\n",
      "          0.6471, -1.0000, -1.0000, -1.0000, -1.0000, -1.0000, -1.0000, -1.0000,\n",
      "         -1.0000, -0.0118,  0.9922,  0.9922,  0.9922,  0.9373, -0.2627, -1.0000,\n",
      "         -1.0000, -1.0000, -1.0000, -1.0000],\n",
      "        [-1.0000, -1.0000, -1.0000, -1.0000,  0.5216,  0.9216,  0.9922,  0.0039,\n",
      "         -0.8353, -1.0000, -1.0000, -1.0000, -1.0000, -1.0000, -1.0000, -0.8824,\n",
      "          0.2314,  0.8431,  0.9922,  0.9922,  0.9922, -0.0824, -0.8745, -1.0000,\n",
      "         -1.0000, -1.0000, -1.0000, -1.0000],\n",
      "        [-1.0000, -1.0000, -1.0000, -1.0000,  0.3412,  0.9922,  0.7412, -0.5686,\n",
      "         -1.0000, -1.0000, -1.0000, -1.0000, -1.0000, -1.0000, -0.3098,  0.3020,\n",
      "          0.9922,  0.9922,  0.9922,  0.8510, -0.0353, -0.1059, -1.0000, -1.0000,\n",
      "         -1.0000, -1.0000, -1.0000, -1.0000],\n",
      "        [-1.0000, -1.0000, -1.0000, -1.0000,  0.0431,  0.9922,  0.9137,  0.6627,\n",
      "         -0.5373, -0.7176, -0.7176, -0.1373,  0.6627,  0.6627,  0.8824,  0.9922,\n",
      "          0.9922,  0.9373,  0.7176,  0.4824, -1.0000, -1.0000, -1.0000, -1.0000,\n",
      "         -1.0000, -1.0000, -1.0000, -1.0000],\n",
      "        [-1.0000, -1.0000, -1.0000, -1.0000,  0.3804,  0.9922,  0.9922,  0.9922,\n",
      "          0.9922,  0.9922,  0.9922,  0.9922,  0.9922,  0.9922,  0.9922,  0.9922,\n",
      "          0.9922,  0.5765, -1.0000, -1.0000, -1.0000, -1.0000, -1.0000, -1.0000,\n",
      "         -1.0000, -1.0000, -1.0000, -1.0000],\n",
      "        [-1.0000, -1.0000, -1.0000, -1.0000,  0.5451,  0.9451,  0.9922,  0.9922,\n",
      "          0.9922,  0.9922,  0.9922,  0.9922,  0.9922,  0.9922,  0.9059,  0.4745,\n",
      "         -0.5216, -0.6235, -1.0000, -1.0000, -1.0000, -1.0000, -1.0000, -1.0000,\n",
      "         -1.0000, -1.0000, -1.0000, -1.0000],\n",
      "        [-1.0000, -1.0000, -1.0000, -1.0000, -1.0000,  0.2471,  0.9922,  0.9922,\n",
      "          0.9922,  0.9922,  0.9922,  0.9922,  0.4353,  0.2314, -0.5765, -1.0000,\n",
      "         -1.0000, -1.0000, -1.0000, -1.0000, -1.0000, -1.0000, -1.0000, -1.0000,\n",
      "         -1.0000, -1.0000, -1.0000, -1.0000],\n",
      "        [-1.0000, -1.0000, -1.0000, -1.0000, -1.0000, -0.6157, -0.3882, -0.3882,\n",
      "         -0.3882, -0.3882, -0.3882, -0.3882, -0.8275, -1.0000, -1.0000, -1.0000,\n",
      "         -1.0000, -1.0000, -1.0000, -1.0000, -1.0000, -1.0000, -1.0000, -1.0000,\n",
      "         -1.0000, -1.0000, -1.0000, -1.0000],\n",
      "        [-1.0000, -1.0000, -1.0000, -1.0000, -1.0000, -1.0000, -1.0000, -1.0000,\n",
      "         -1.0000, -1.0000, -1.0000, -1.0000, -1.0000, -1.0000, -1.0000, -1.0000,\n",
      "         -1.0000, -1.0000, -1.0000, -1.0000, -1.0000, -1.0000, -1.0000, -1.0000,\n",
      "         -1.0000, -1.0000, -1.0000, -1.0000],\n",
      "        [-1.0000, -1.0000, -1.0000, -1.0000, -1.0000, -1.0000, -1.0000, -1.0000,\n",
      "         -1.0000, -1.0000, -1.0000, -1.0000, -1.0000, -1.0000, -1.0000, -1.0000,\n",
      "         -1.0000, -1.0000, -1.0000, -1.0000, -1.0000, -1.0000, -1.0000, -1.0000,\n",
      "         -1.0000, -1.0000, -1.0000, -1.0000],\n",
      "        [-1.0000, -1.0000, -1.0000, -1.0000, -1.0000, -1.0000, -1.0000, -1.0000,\n",
      "         -1.0000, -1.0000, -1.0000, -1.0000, -1.0000, -1.0000, -1.0000, -1.0000,\n",
      "         -1.0000, -1.0000, -1.0000, -1.0000, -1.0000, -1.0000, -1.0000, -1.0000,\n",
      "         -1.0000, -1.0000, -1.0000, -1.0000],\n",
      "        [-1.0000, -1.0000, -1.0000, -1.0000, -1.0000, -1.0000, -1.0000, -1.0000,\n",
      "         -1.0000, -1.0000, -1.0000, -1.0000, -1.0000, -1.0000, -1.0000, -1.0000,\n",
      "         -1.0000, -1.0000, -1.0000, -1.0000, -1.0000, -1.0000, -1.0000, -1.0000,\n",
      "         -1.0000, -1.0000, -1.0000, -1.0000]])\n"
     ]
    },
    {
     "data": {
      "text/plain": [
       "torch.Size([28, 28])"
      ]
     },
     "execution_count": 4,
     "metadata": {},
     "output_type": "execute_result"
    }
   ],
   "source": [
    "examples = enumerate(data_loader_train)\n",
    "batch_idx, (example_data, example_targets) = next(examples)\n",
    "print(example_data[0][0])\n",
    "example_data[0][0].shape"
   ]
  },
  {
   "cell_type": "code",
   "execution_count": 5,
   "id": "5e924a9b",
   "metadata": {},
   "outputs": [
    {
     "name": "stderr",
     "output_type": "stream",
     "text": [
      "/tmp/ipykernel_27623/1766397098.py:6: UserWarning: The figure layout has changed to tight\n",
      "  plt.tight_layout()\n"
     ]
    },
    {
     "data": {
      "image/png": "[encoded data removed]",
      "text/plain": [
       "<Figure size 640x480 with 6 Axes>"
      ]
     },
     "execution_count": 5,
     "metadata": {},
     "output_type": "execute_result"
    },
    {
     "data": {
      "image/png": "[encoded data removed]",
      "text/plain": [
       "<Figure size 640x480 with 6 Axes>"
      ]
     },
     "metadata": {},
     "output_type": "display_data"
    }
   ],
   "source": [
    "import matplotlib.pyplot as plt\n",
    "\n",
    "fig = plt.figure()\n",
    "for i in range(6):\n",
    "  plt.subplot(2,3,i+1)\n",
    "  plt.tight_layout()\n",
    "  plt.imshow(example_data[i][0], cmap='gray', interpolation='none')\n",
    "  plt.title(\"Ground Truth: {}\".format(example_targets[i]))\n",
    "  plt.xticks([])\n",
    "  plt.yticks([])\n",
    "fig"
   ]
  },
  {
   "cell_type": "code",
   "execution_count": 6,
   "id": "68edbf14",
   "metadata": {},
   "outputs": [],
   "source": [
    "input_size = 1*28*28      \n",
    "hidden1 = 1024      \n",
    "hidden2 = 1024\n",
    "hidden3 = 1024\n",
    "weight_bit_width = 8\n",
    "act_bit_width = 8\n",
    "num_classes = 10  "
   ]
  },
  {
   "cell_type": "code",
   "execution_count": 7,
   "id": "a7bf6c38",
   "metadata": {},
   "outputs": [],
   "source": [
    "import brevitas.nn as qnn\n",
    "from brevitas.nn import QuantLinear, QuantReLU\n",
    "import torch.nn as nn\n",
    "from torch.nn import Module\n",
    "from brevitas.quant.binary import SignedBinaryActPerTensorConst\n",
    "from brevitas.quant.binary import SignedBinaryWeightPerTensorConst\n",
    "from brevitas.inject.enum import QuantType\n",
    "\n",
    "# Setting seeds for reproducibility\n",
    "torch.manual_seed(0)\n",
    "\n",
    "class TFC_W8A8(Module):\n",
    "    def __init__(self):\n",
    "        super(TFC_W8A8, self).__init__()\n",
    "        \n",
    "        self.input = qnn.QuantIdentity(\n",
    "                         quant_type='int',\n",
    "                         scaling_impl_type='const',\n",
    "                         bit_width=act_bit_width,\n",
    "                         min_val=-128.0,\n",
    "                         max_val=127.0, \n",
    "                         return_quant_tensor=True\n",
    "                     )\n",
    "        \n",
    "        self.fc1   = qnn.QuantLinear(\n",
    "                         input_size, \n",
    "                         hidden1, \n",
    "                         weight_bit_width=weight_bit_width,\n",
    "                         weight_quant_type=QuantType.INT,\n",
    "                         bias=False\n",
    "                     )\n",
    "        \n",
    "        self.bn1   = nn.BatchNorm1d(hidden1)\n",
    "        self.relu1 = qnn.QuantReLU(\n",
    "                         bit_width=act_bit_width, \n",
    "                         return_quant_tensor=True\n",
    "                     )\n",
    "        \n",
    "        self.fc2   = qnn.QuantLinear(\n",
    "                         hidden1, \n",
    "                         hidden2, \n",
    "                         weight_bit_width=weight_bit_width,\n",
    "                         weight_quant_type=QuantType.INT,\n",
    "                         bias=False\n",
    "                     )\n",
    "        self.bn2   = nn.BatchNorm1d(hidden2)\n",
    "        self.relu2 = qnn.QuantReLU(\n",
    "                         bit_width=act_bit_width, \n",
    "                         return_quant_tensor=True\n",
    "                     )\n",
    "        \n",
    "        \n",
    "        self.fc3   = qnn.QuantLinear(\n",
    "                         hidden2, \n",
    "                         hidden3, \n",
    "                         weight_bit_width=weight_bit_width,\n",
    "                         weight_quant_type=QuantType.INT,\n",
    "                         bias=False\n",
    "                     )\n",
    "        self.bn3   = nn.BatchNorm1d(hidden3)\n",
    "        self.relu3 = qnn.QuantReLU(\n",
    "                         bit_width=act_bit_width, \n",
    "                         return_quant_tensor=True\n",
    "                     )\n",
    "        \n",
    "        \n",
    "        self.out   = qnn.QuantLinear(\n",
    "                         hidden3, \n",
    "                         num_classes, \n",
    "                         weight_bit_width=weight_bit_width,\n",
    "                         weight_quant_type=QuantType.INT,\n",
    "                         bias=False\n",
    "                     )\n",
    "        \n",
    "        self.accu_min_1 = 65535.0\n",
    "        self.accu_max_1 = 0.0\n",
    "        \n",
    "        self.out_min_1 = 65535.0\n",
    "        self.out_max_1 = 0.0\n",
    "        \n",
    "        self.accu_min_2 = 65535.0\n",
    "        self.accu_max_2 = 0.0\n",
    "        \n",
    "        self.out_min_2 = 65535.0\n",
    "        self.out_max_2 = 0.0\n",
    "        \n",
    "        self.accu_min_3 = 65535.0\n",
    "        self.accu_max_3 = 0.0\n",
    "        \n",
    "        self.out_min_3 = 65535.0\n",
    "        self.out_max_3 = 0.0\n",
    "\n",
    "    def forward(self, x, en):\n",
    "        \n",
    "        out = x.reshape(x.shape[0], -1)\n",
    "        out = self.input(out)\n",
    "        \n",
    "        #out = self.relu1(self.bn1(self.fc1(out)))\n",
    "        out=self.fc1(out)\n",
    "        if (en==True):\n",
    "            if (out.max()>self.accu_max_1):\n",
    "                self.accu_max_1 = out.max()\n",
    "            if (out.min()<self.accu_min_1):\n",
    "                self.accu_min_1 = out.min()\n",
    "        out=self.relu1(self.bn1(out))\n",
    "        if (en==True):\n",
    "            if (out.value.max()>self.out_max_1):\n",
    "                self.out_max_1 = out.value.max()\n",
    "            if (out.value.min()<self.out_min_1):\n",
    "                self.out_min_1 = out.value.min()\n",
    "                \n",
    "        #out = self.relu2(self.bn2(self.fc2(out)))\n",
    "        out=self.fc2(out)\n",
    "        if (en==True):\n",
    "            if (out.max()>self.accu_max_2):\n",
    "                self.accu_max_2 = out.max()\n",
    "            if (out.min()<self.accu_min_2):\n",
    "                self.accu_min_2 = out.min()\n",
    "        out=self.relu2(self.bn2(out))\n",
    "        if (en==True):\n",
    "            if (out.value.max()>self.out_max_2):\n",
    "                self.out_max_2 = out.value.max()\n",
    "            if (out.value.min()<self.out_min_2):\n",
    "                self.out_min_2 = out.value.min()\n",
    "                \n",
    "        #out = self.relu3(self.bn3(self.fc3(out)))\n",
    "        out=self.fc3(out)\n",
    "        if (en==True):\n",
    "            if (out.max()>self.accu_max_3):\n",
    "                self.accu_max_3 = out.max()\n",
    "            if (out.min()<self.accu_min_3):\n",
    "                self.accu_min_3 = out.min()\n",
    "        out=self.relu3(self.bn3(out))\n",
    "        if (en==True):\n",
    "            if (out.value.max()>self.out_max_3):\n",
    "                self.out_max_3 = out.value.max()\n",
    "            if (out.value.min()<self.out_min_3):\n",
    "                self.out_min_3 = out.value.min()\n",
    "                \n",
    "        out = self.out(out)\n",
    "        \n",
    "        return out\n",
    "   \n",
    "model = TFC_W8A8()"
   ]
  },
  {
   "cell_type": "code",
   "execution_count": 8,
   "id": "bef40381",
   "metadata": {},
   "outputs": [],
   "source": [
    "def train(model, train_loader, optimizer, criterion):\n",
    "    losses = []\n",
    "    # ensure model is in training mode\n",
    "    model.train()    \n",
    "    \n",
    "    for i, data in enumerate(train_loader, 0):        \n",
    "        inputs, target = data\n",
    "        #inputs, target = inputs.cuda(), target.cuda()\n",
    "        inputs, target = Variable(inputs), Variable(target)\n",
    "        \n",
    "        outputs = model(inputs, False)\n",
    "        _,pred = torch.max(outputs.data,1)\n",
    "        \n",
    "        optimizer.zero_grad()\n",
    "        loss = criterion(outputs,target)\n",
    " \n",
    "        loss.backward()\n",
    "        optimizer.step()\n",
    "        \n",
    "        # keep track of loss value\n",
    "        losses.append(loss.data.numpy()) \n",
    "           \n",
    "    return losses"
   ]
  },
  {
   "cell_type": "code",
   "execution_count": 9,
   "id": "1ee01aea",
   "metadata": {},
   "outputs": [],
   "source": [
    "import torch\n",
    "from sklearn.metrics import accuracy_score\n",
    "\n",
    "def test(model, test_loader, enable=False):    \n",
    "    # ensure model is in eval mode\n",
    "    model.eval() \n",
    "    y_true = []\n",
    "    y_pred = []\n",
    "   \n",
    "    with torch.no_grad():\n",
    "        for data in test_loader:\n",
    "            inputs, target = data\n",
    "            #inputs, target = inputs.cuda(), target.cuda()\n",
    "            inputs, target = Variable(inputs),Variable(target)\n",
    "            output = model(inputs, enable)\n",
    "            _,pred = torch.max(output,1)\n",
    "            y_true.extend(target.tolist()) \n",
    "            y_pred.extend(pred.reshape(-1).tolist())\n",
    "        \n",
    "    return accuracy_score(y_true, y_pred)"
   ]
  },
  {
   "cell_type": "code",
   "execution_count": 10,
   "id": "0af35e3c",
   "metadata": {},
   "outputs": [],
   "source": [
    "num_epochs = 10\n",
    "learn_rate = 0.001 \n",
    "\n",
    "def display_loss_plot(losses, title=\"Training loss\", xlabel=\"Iterations\", ylabel=\"Loss\"):\n",
    "    x_axis = [i for i in range(len(losses))]\n",
    "    plt.plot(x_axis,losses)\n",
    "    plt.title(title)\n",
    "    plt.xlabel(xlabel)\n",
    "    plt.ylabel(ylabel)\n",
    "    plt.show()"
   ]
  },
  {
   "cell_type": "code",
   "execution_count": 11,
   "id": "03deb083",
   "metadata": {},
   "outputs": [],
   "source": [
    "# loss criterion and optimizer\n",
    "criterion = torch.nn.CrossEntropyLoss()\n",
    "optimizer = torch.optim.Adam(model.parameters(), lr=learn_rate, betas=(0.9, 0.999))"
   ]
  },
  {
   "cell_type": "code",
   "execution_count": 12,
   "id": "ff545543",
   "metadata": {
    "scrolled": true
   },
   "outputs": [
    {
     "name": "stderr",
     "output_type": "stream",
     "text": [
      "Training loss = 0.023430 test accuracy = 0.980400: 100%|█| 10/10 [23:20<00:00, 1\n"
     ]
    }
   ],
   "source": [
    "import numpy as np\n",
    "from sklearn.metrics import accuracy_score\n",
    "from tqdm import tqdm, trange\n",
    "\n",
    "# Setting seeds for reproducibility\n",
    "torch.manual_seed(0)\n",
    "np.random.seed(0)\n",
    "\n",
    "running_loss = []\n",
    "running_test_acc = []\n",
    "t = trange(num_epochs, desc=\"Training loss\", leave=True)\n",
    "\n",
    "for epoch in t:\n",
    "        loss_epoch = train(model, data_loader_train, optimizer, criterion)\n",
    "        test_acc = test(model, data_loader_test)\n",
    "        t.set_description(\"Training loss = %f test accuracy = %f\" % (np.mean(loss_epoch), test_acc))\n",
    "        t.refresh() # to show immediately the update           \n",
    "        running_loss.append(loss_epoch)\n",
    "        running_test_acc.append(test_acc)"
   ]
  },
  {
   "cell_type": "code",
   "execution_count": 13,
   "id": "985970e2",
   "metadata": {
    "scrolled": true
   },
   "outputs": [
    {
     "data": {
      "image/png": "[encoded data removed]",
      "text/plain": [
       "<Figure size 640x480 with 1 Axes>"
      ]
     },
     "metadata": {},
     "output_type": "display_data"
    }
   ],
   "source": [
    "%matplotlib inline\n",
    "import matplotlib.pyplot as plt\n",
    "\n",
    "loss_per_epoch = [np.mean(loss_per_epoch) for loss_per_epoch in running_loss]\n",
    "display_loss_plot(loss_per_epoch)"
   ]
  },
  {
   "cell_type": "code",
   "execution_count": 14,
   "id": "f3699441",
   "metadata": {
    "scrolled": true
   },
   "outputs": [
    {
     "data": {
      "image/png": "[encoded data removed]",
      "text/plain": [
       "<Figure size 640x480 with 1 Axes>"
      ]
     },
     "metadata": {},
     "output_type": "display_data"
    }
   ],
   "source": [
    "acc_per_epoch = [np.mean(acc_per_epoch) for acc_per_epoch in running_test_acc]\n",
    "display_loss_plot(acc_per_epoch, title=\"Test accuracy\", ylabel=\"Accuracy [%]\")"
   ]
  },
  {
   "cell_type": "code",
   "execution_count": 15,
   "id": "21d0b2aa",
   "metadata": {},
   "outputs": [
    {
     "data": {
      "text/plain": [
       "0.9804"
      ]
     },
     "execution_count": 15,
     "metadata": {},
     "output_type": "execute_result"
    }
   ],
   "source": [
    "test(model, data_loader_test, True)"
   ]
  },
  {
   "cell_type": "code",
   "execution_count": 16,
   "id": "815b56ba-153e-434f-8323-ee496cf60e20",
   "metadata": {},
   "outputs": [],
   "source": [
    "test_1_in = torch.from_numpy(np.ones((1000,1024)).astype('f'))\n",
    "test_1_out = model.relu1(model.bn1(test_1_in))\n",
    "scale_1 = test_1_out.scale.cpu().detach().numpy()\n",
    "zero_point_1 = test_1_out.zero_point.cpu().detach().numpy()\n",
    "\n",
    "test_2_in = torch.from_numpy(np.ones((1000,1024)).astype('f'))\n",
    "test_2_out = model.relu2(model.bn2(test_2_in))\n",
    "scale_2 = test_2_out.scale.cpu().detach().numpy()\n",
    "zero_point_2 = test_2_out.zero_point.cpu().detach().numpy()\n",
    "\n",
    "test_3_in = torch.from_numpy(np.ones((1000, 1024)).astype('f'))\n",
    "test_3_out = model.relu3(model.bn3(test_3_in))\n",
    "scale_3 = test_3_out.scale.cpu().detach().numpy()\n",
    "zero_point_3 = test_3_out.zero_point.cpu().detach().numpy()"
   ]
  },
  {
   "cell_type": "code",
   "execution_count": 17,
   "id": "8426257e",
   "metadata": {},
   "outputs": [
    {
     "name": "stdout",
     "output_type": "stream",
     "text": [
      "Layer 1:\n",
      "\n",
      "    Accumulator Output Range: [ tensor(-21.8907) ,  tensor(24.1689) ]\n",
      "\n",
      "    Multi-Threshold Output Range: [ tensor(0.) ,  tensor(255.) ]\n",
      "\n",
      "    Scale factor:  5.5363\n",
      "Layer 2:\n",
      "\n",
      "    Accumulator Output Range: [ tensor(-26.0479) ,  tensor(27.5345) ]\n",
      "\n",
      "    Multi-Threshold Output Range: [ tensor(0.) ,  tensor(255.) ]\n",
      "\n",
      "    Scale factor:  4.7590\n",
      "Layer 3:\n",
      "\n",
      "    Accumulator Output Range: [ tensor(-44.6644) ,  tensor(47.3074) ]\n",
      "\n",
      "    Multi-Threshold Output Range: [ tensor(0.) ,  tensor(255.) ]\n",
      "\n",
      "    Scale factor:  2.7726\n"
     ]
    }
   ],
   "source": [
    "print(\"Layer 1:\\n\")\n",
    "print(\"    Accumulator Output Range: [\", model.accu_min_1, \", \", model.accu_max_1, \"]\\n\")\n",
    "print(\"    Multi-Threshold Output Range: [\", model.out_min_1/scale_1+zero_point_1, \", \", model.out_max_1/scale_1+zero_point_1, \"]\\n\")\n",
    "print(\"    Scale factor: \", \"%.4f\" %(((model.out_max_1-model.out_min_1)/scale_1+zero_point_1)/(model.accu_max_1-model.accu_min_1)))\n",
    "\n",
    "print(\"Layer 2:\\n\")\n",
    "print(\"    Accumulator Output Range: [\", model.accu_min_2, \", \", model.accu_max_2, \"]\\n\")\n",
    "print(\"    Multi-Threshold Output Range: [\", model.out_min_2/scale_2+zero_point_2, \", \", model.out_max_2/scale_2+zero_point_2, \"]\\n\")\n",
    "print(\"    Scale factor: \", \"%.4f\" %(((model.out_max_2-model.out_min_2)/scale_2+zero_point_2)/(model.accu_max_2-model.accu_min_2)))\n",
    "\n",
    "print(\"Layer 3:\\n\")\n",
    "print(\"    Accumulator Output Range: [\", model.accu_min_3, \", \", model.accu_max_3, \"]\\n\")\n",
    "print(\"    Multi-Threshold Output Range: [\", model.out_min_3/scale_3+zero_point_3, \", \", model.out_max_3/scale_3+zero_point_3, \"]\\n\")\n",
    "print(\"    Scale factor: \", \"%.4f\" %(((model.out_max_3-model.out_min_3)/scale_3+zero_point_3)/(model.accu_max_3-model.accu_min_3)))"
   ]
  },
  {
   "cell_type": "code",
   "execution_count": null,
   "id": "6b1ba829-9568-4011-bcfd-c6756882114e",
   "metadata": {},
   "outputs": [],
   "source": []
  }
 ],
 "metadata": {
  "kernelspec": {
   "display_name": "Python 3 (ipykernel)",
   "language": "python",
   "name": "python3"
  },
  "language_info": {
   "codemirror_mode": {
    "name": "ipython",
    "version": 3
   },
   "file_extension": ".py",
   "mimetype": "text/x-python",
   "name": "python",
   "nbconvert_exporter": "python",
   "pygments_lexer": "ipython3",
   "version": "3.8.19"
  }
 },
 "nbformat": 4,
 "nbformat_minor": 5
}
