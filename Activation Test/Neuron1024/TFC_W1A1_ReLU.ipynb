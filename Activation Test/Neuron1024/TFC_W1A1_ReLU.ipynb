{
 "cells": [
  {
   "cell_type": "code",
   "execution_count": 18,
   "id": "2c9598d2-e69f-4163-9809-153f9e2a5ba2",
   "metadata": {},
   "outputs": [],
   "source": [
    "import torchvision\n",
    "from torchvision import datasets\n",
    "from torchvision import transforms\n",
    "from torch.autograd import Variable"
   ]
  },
  {
   "cell_type": "code",
   "execution_count": 19,
   "id": "2f842011-147e-4d93-818c-ff484f9f98a5",
   "metadata": {},
   "outputs": [],
   "source": [
    "data_train = torchvision.datasets.MNIST('./data/', \n",
    "                                        train=True, download=True,\n",
    "                                        transform=torchvision.transforms.Compose\n",
    "                                        ([\n",
    "                                            torchvision.transforms.ToTensor(),\n",
    "                                            #torchvision.transforms.Normalize((0.1307,), (0.3081,))\n",
    "                                            torchvision.transforms.Normalize((0.5,), (0.5,))\n",
    "                                        ]))\n",
    "data_test = torchvision.datasets.MNIST('./data/', \n",
    "                                       train=False, download=True,\n",
    "                                       transform=torchvision.transforms.Compose\n",
    "                                       ([\n",
    "                                            torchvision.transforms.ToTensor(),\n",
    "                                            #torchvision.transforms.Normalize((0.1307,), (0.3081,))\n",
    "                                            torchvision.transforms.Normalize((0.5,), (0.5,))\n",
    "                                       ]))"
   ]
  },
  {
   "cell_type": "code",
   "execution_count": 20,
   "id": "e05de8ab-8861-49f4-bd49-cbeccad40a6e",
   "metadata": {},
   "outputs": [],
   "source": [
    "import torch\n",
    "\n",
    "batch_size_train = 64\n",
    "batch_size_test = 1000\n",
    "\n",
    "data_loader_train = torch.utils.data.DataLoader(dataset=data_train,\n",
    "                                                batch_size=batch_size_train, \n",
    "                                                shuffle=True)\n",
    "\n",
    "data_loader_test = torch.utils.data.DataLoader(dataset=data_test,\n",
    "                                               batch_size=batch_size_test, \n",
    "                                               shuffle=True)"
   ]
  },
  {
   "cell_type": "code",
   "execution_count": 21,
   "id": "d2dd8f88-039d-4103-ae15-7d0a43dd3c50",
   "metadata": {},
   "outputs": [
    {
     "name": "stdout",
     "output_type": "stream",
     "text": [
      "tensor([[-1.0000, -1.0000, -1.0000, -1.0000, -1.0000, -1.0000, -1.0000, -1.0000,\n",
      "         -1.0000, -1.0000, -1.0000, -1.0000, -1.0000, -1.0000, -1.0000, -1.0000,\n",
      "         -1.0000, -1.0000, -1.0000, -1.0000, -1.0000, -1.0000, -1.0000, -1.0000,\n",
      "         -1.0000, -1.0000, -1.0000, -1.0000],\n",
      "        [-1.0000, -1.0000, -1.0000, -1.0000, -1.0000, -1.0000, -1.0000, -1.0000,\n",
      "         -1.0000, -1.0000, -1.0000, -1.0000, -1.0000, -1.0000, -1.0000, -1.0000,\n",
      "         -1.0000, -1.0000, -1.0000, -1.0000, -1.0000, -1.0000, -1.0000, -1.0000,\n",
      "         -1.0000, -1.0000, -1.0000, -1.0000],\n",
      "        [-1.0000, -1.0000, -1.0000, -1.0000, -1.0000, -1.0000, -1.0000, -1.0000,\n",
      "         -1.0000, -1.0000, -1.0000, -1.0000, -1.0000, -1.0000, -1.0000, -1.0000,\n",
      "         -1.0000, -1.0000, -1.0000, -1.0000, -1.0000, -1.0000, -1.0000, -1.0000,\n",
      "         -1.0000, -1.0000, -1.0000, -1.0000],\n",
      "        [-1.0000, -1.0000, -1.0000, -1.0000, -1.0000, -1.0000, -1.0000, -1.0000,\n",
      "         -1.0000, -1.0000, -1.0000, -1.0000, -0.1686, -0.3255, -1.0000, -1.0000,\n",
      "         -1.0000, -1.0000, -1.0000, -1.0000, -1.0000, -1.0000, -1.0000, -1.0000,\n",
      "         -1.0000, -1.0000, -1.0000, -1.0000],\n",
      "        [-1.0000, -1.0000, -1.0000, -1.0000, -1.0000, -1.0000, -1.0000, -1.0000,\n",
      "         -1.0000, -1.0000, -0.6392,  0.8196,  0.9765,  0.9765,  0.1216, -0.3098,\n",
      "         -1.0000, -1.0000, -1.0000, -1.0000, -1.0000, -1.0000, -1.0000, -1.0000,\n",
      "         -1.0000, -1.0000, -1.0000, -1.0000],\n",
      "        [-1.0000, -1.0000, -1.0000, -1.0000, -1.0000, -1.0000, -1.0000, -1.0000,\n",
      "         -1.0000, -1.0000,  0.7412,  0.9843,  0.9843,  0.9843,  0.9843,  0.9608,\n",
      "          0.6549, -0.7569, -1.0000, -1.0000, -1.0000, -1.0000, -1.0000, -1.0000,\n",
      "         -1.0000, -1.0000, -1.0000, -1.0000],\n",
      "        [-1.0000, -1.0000, -1.0000, -1.0000, -1.0000, -1.0000, -1.0000, -1.0000,\n",
      "         -1.0000, -1.0000,  0.0510,  0.1686,  0.1686,  0.1686,  0.8196,  0.9843,\n",
      "          0.9843,  0.8824, -0.0118, -1.0000, -1.0000, -1.0000, -1.0000, -1.0000,\n",
      "         -1.0000, -1.0000, -1.0000, -1.0000],\n",
      "        [-1.0000, -1.0000, -1.0000, -1.0000, -1.0000, -1.0000, -1.0000, -1.0000,\n",
      "         -1.0000, -1.0000, -1.0000, -1.0000, -1.0000, -1.0000, -0.8431,  0.1843,\n",
      "          0.9843,  0.9843,  0.7647, -0.7412, -1.0000, -1.0000, -1.0000, -1.0000,\n",
      "         -1.0000, -1.0000, -1.0000, -1.0000],\n",
      "        [-1.0000, -1.0000, -1.0000, -1.0000, -1.0000, -1.0000, -1.0000, -1.0000,\n",
      "         -1.0000, -1.0000, -1.0000, -1.0000, -1.0000, -1.0000, -1.0000, -0.9294,\n",
      "         -0.5137,  0.7882,  0.9843,  0.6627, -0.7412, -1.0000, -1.0000, -1.0000,\n",
      "         -1.0000, -1.0000, -1.0000, -1.0000],\n",
      "        [-1.0000, -1.0000, -1.0000, -1.0000, -1.0000, -1.0000, -1.0000, -1.0000,\n",
      "         -1.0000, -1.0000, -1.0000, -1.0000, -1.0000, -1.0000, -1.0000, -1.0000,\n",
      "         -1.0000,  0.0902,  0.9843,  0.9843, -0.2863, -1.0000, -1.0000, -1.0000,\n",
      "         -1.0000, -1.0000, -1.0000, -1.0000],\n",
      "        [-1.0000, -1.0000, -1.0000, -1.0000, -1.0000, -1.0000, -1.0000, -1.0000,\n",
      "         -1.0000, -1.0000, -1.0000, -1.0000, -1.0000, -1.0000, -1.0000, -1.0000,\n",
      "         -1.0000, -0.9216,  0.4902,  0.9843,  0.6314, -0.7647, -1.0000, -1.0000,\n",
      "         -1.0000, -1.0000, -1.0000, -1.0000],\n",
      "        [-1.0000, -1.0000, -1.0000, -1.0000, -1.0000, -1.0000, -1.0000, -1.0000,\n",
      "         -1.0000, -1.0000, -1.0000, -1.0000, -1.0000, -1.0000, -1.0000, -1.0000,\n",
      "         -1.0000, -1.0000, -0.4275,  0.9843,  0.9137, -0.4510, -1.0000, -1.0000,\n",
      "         -1.0000, -1.0000, -1.0000, -1.0000],\n",
      "        [-1.0000, -1.0000, -1.0000, -1.0000, -1.0000, -1.0000, -1.0000, -1.0000,\n",
      "         -1.0000, -1.0000, -1.0000, -1.0000, -0.8275, -0.9059, -1.0000, -0.8667,\n",
      "         -0.4824, -0.4824, -0.2157,  0.9843,  0.7333, -1.0000, -1.0000, -1.0000,\n",
      "         -1.0000, -1.0000, -1.0000, -1.0000],\n",
      "        [-1.0000, -1.0000, -1.0000, -1.0000, -1.0000, -1.0000, -1.0000, -1.0000,\n",
      "         -0.7961, -0.1137,  0.4824,  0.4824,  0.6549,  0.5686,  0.4824,  0.6157,\n",
      "          0.9843,  0.9843,  0.9843,  0.9843,  0.7882, -0.7725, -0.8118, -1.0000,\n",
      "         -1.0000, -1.0000, -1.0000, -1.0000],\n",
      "        [-1.0000, -1.0000, -1.0000, -1.0000, -1.0000, -1.0000, -1.0000, -0.8039,\n",
      "          0.6235,  0.9843,  0.9843,  0.9843,  0.9843,  0.9843,  0.9843,  0.9843,\n",
      "          0.9843,  0.9843,  0.9843,  0.9843,  0.9843,  0.7020,  0.6549, -0.1451,\n",
      "         -0.5843, -0.5843, -1.0000, -1.0000],\n",
      "        [-1.0000, -1.0000, -1.0000, -1.0000, -1.0000, -1.0000, -0.8196,  0.6392,\n",
      "          0.9843,  0.9843,  0.9843,  0.9843,  0.6784,  0.6235,  0.6235,  0.7176,\n",
      "          0.9843,  0.9843,  0.9843,  0.9843,  0.9843,  0.9843,  0.9843,  0.9843,\n",
      "          0.9843,  0.9843, -1.0000, -1.0000],\n",
      "        [-1.0000, -1.0000, -1.0000, -1.0000, -1.0000, -1.0000,  0.1294,  0.9843,\n",
      "          0.9843,  0.9843,  0.7098, -0.2157, -0.8980, -1.0000, -1.0000, -0.3255,\n",
      "          0.9843,  0.9843,  0.9294,  0.5216, -0.3412, -0.3412, -0.3412,  0.2314,\n",
      "          0.1216, -0.3412, -1.0000, -1.0000],\n",
      "        [-1.0000, -1.0000, -1.0000, -1.0000, -1.0000, -1.0000,  0.9922,  0.9843,\n",
      "          0.8745,  0.3098, -0.9294, -1.0000, -1.0000, -0.7882,  0.0745,  0.8275,\n",
      "          0.9843,  0.9843,  0.4980, -1.0000, -1.0000, -1.0000, -1.0000, -1.0000,\n",
      "         -1.0000, -1.0000, -1.0000, -1.0000],\n",
      "        [-1.0000, -1.0000, -1.0000, -1.0000, -1.0000, -1.0000,  1.0000,  0.9843,\n",
      "         -0.5137, -1.0000, -1.0000, -0.8196,  0.0745,  0.8510,  0.9843,  0.9843,\n",
      "          0.9843,  0.6235, -0.7647, -1.0000, -1.0000, -1.0000, -1.0000, -1.0000,\n",
      "         -1.0000, -1.0000, -1.0000, -1.0000],\n",
      "        [-1.0000, -1.0000, -1.0000, -1.0000, -1.0000, -1.0000,  1.0000,  0.9843,\n",
      "          0.2157,  0.1765,  0.1765,  0.8824,  0.9843,  0.9843,  0.9843,  0.9451,\n",
      "          0.5922, -0.7725, -1.0000, -1.0000, -1.0000, -1.0000, -1.0000, -1.0000,\n",
      "         -1.0000, -1.0000, -1.0000, -1.0000],\n",
      "        [-1.0000, -1.0000, -1.0000, -1.0000, -1.0000, -1.0000,  0.4118,  0.9843,\n",
      "          0.9843,  0.9843,  0.9843,  0.9843,  0.9843,  0.9843,  0.6157, -0.3569,\n",
      "         -1.0000, -1.0000, -1.0000, -1.0000, -1.0000, -1.0000, -1.0000, -1.0000,\n",
      "         -1.0000, -1.0000, -1.0000, -1.0000],\n",
      "        [-1.0000, -1.0000, -1.0000, -1.0000, -1.0000, -1.0000, -0.5529,  0.3882,\n",
      "          0.9373,  0.9373,  0.9373,  0.9373,  0.5922, -0.0824, -0.8118, -1.0000,\n",
      "         -1.0000, -1.0000, -1.0000, -1.0000, -1.0000, -1.0000, -1.0000, -1.0000,\n",
      "         -1.0000, -1.0000, -1.0000, -1.0000],\n",
      "        [-1.0000, -1.0000, -1.0000, -1.0000, -1.0000, -1.0000, -1.0000, -1.0000,\n",
      "         -1.0000, -1.0000, -1.0000, -1.0000, -1.0000, -1.0000, -1.0000, -1.0000,\n",
      "         -1.0000, -1.0000, -1.0000, -1.0000, -1.0000, -1.0000, -1.0000, -1.0000,\n",
      "         -1.0000, -1.0000, -1.0000, -1.0000],\n",
      "        [-1.0000, -1.0000, -1.0000, -1.0000, -1.0000, -1.0000, -1.0000, -1.0000,\n",
      "         -1.0000, -1.0000, -1.0000, -1.0000, -1.0000, -1.0000, -1.0000, -1.0000,\n",
      "         -1.0000, -1.0000, -1.0000, -1.0000, -1.0000, -1.0000, -1.0000, -1.0000,\n",
      "         -1.0000, -1.0000, -1.0000, -1.0000],\n",
      "        [-1.0000, -1.0000, -1.0000, -1.0000, -1.0000, -1.0000, -1.0000, -1.0000,\n",
      "         -1.0000, -1.0000, -1.0000, -1.0000, -1.0000, -1.0000, -1.0000, -1.0000,\n",
      "         -1.0000, -1.0000, -1.0000, -1.0000, -1.0000, -1.0000, -1.0000, -1.0000,\n",
      "         -1.0000, -1.0000, -1.0000, -1.0000],\n",
      "        [-1.0000, -1.0000, -1.0000, -1.0000, -1.0000, -1.0000, -1.0000, -1.0000,\n",
      "         -1.0000, -1.0000, -1.0000, -1.0000, -1.0000, -1.0000, -1.0000, -1.0000,\n",
      "         -1.0000, -1.0000, -1.0000, -1.0000, -1.0000, -1.0000, -1.0000, -1.0000,\n",
      "         -1.0000, -1.0000, -1.0000, -1.0000],\n",
      "        [-1.0000, -1.0000, -1.0000, -1.0000, -1.0000, -1.0000, -1.0000, -1.0000,\n",
      "         -1.0000, -1.0000, -1.0000, -1.0000, -1.0000, -1.0000, -1.0000, -1.0000,\n",
      "         -1.0000, -1.0000, -1.0000, -1.0000, -1.0000, -1.0000, -1.0000, -1.0000,\n",
      "         -1.0000, -1.0000, -1.0000, -1.0000],\n",
      "        [-1.0000, -1.0000, -1.0000, -1.0000, -1.0000, -1.0000, -1.0000, -1.0000,\n",
      "         -1.0000, -1.0000, -1.0000, -1.0000, -1.0000, -1.0000, -1.0000, -1.0000,\n",
      "         -1.0000, -1.0000, -1.0000, -1.0000, -1.0000, -1.0000, -1.0000, -1.0000,\n",
      "         -1.0000, -1.0000, -1.0000, -1.0000]])\n"
     ]
    },
    {
     "data": {
      "text/plain": [
       "torch.Size([28, 28])"
      ]
     },
     "execution_count": 21,
     "metadata": {},
     "output_type": "execute_result"
    }
   ],
   "source": [
    "examples = enumerate(data_loader_train)\n",
    "batch_idx, (example_data, example_targets) = next(examples)\n",
    "print(example_data[0][0])\n",
    "example_data[0][0].shape"
   ]
  },
  {
   "cell_type": "code",
   "execution_count": 22,
   "id": "e327a1fd-94d5-4a24-b9bf-fc5f4474c1b0",
   "metadata": {},
   "outputs": [
    {
     "name": "stderr",
     "output_type": "stream",
     "text": [
      "/tmp/ipykernel_9063/1766397098.py:6: UserWarning: The figure layout has changed to tight\n",
      "  plt.tight_layout()\n"
     ]
    },
    {
     "data": {
      "image/png": "[encoded data removed]",
      "text/plain": [
       "<Figure size 640x480 with 6 Axes>"
      ]
     },
     "execution_count": 22,
     "metadata": {},
     "output_type": "execute_result"
    },
    {
     "data": {
      "image/png": "[encoded data removed]",
      "text/plain": [
       "<Figure size 640x480 with 6 Axes>"
      ]
     },
     "metadata": {},
     "output_type": "display_data"
    }
   ],
   "source": [
    "import matplotlib.pyplot as plt\n",
    "\n",
    "fig = plt.figure()\n",
    "for i in range(6):\n",
    "  plt.subplot(2,3,i+1)\n",
    "  plt.tight_layout()\n",
    "  plt.imshow(example_data[i][0], cmap='gray', interpolation='none')\n",
    "  plt.title(\"Ground Truth: {}\".format(example_targets[i]))\n",
    "  plt.xticks([])\n",
    "  plt.yticks([])\n",
    "fig"
   ]
  },
  {
   "cell_type": "code",
   "execution_count": 23,
   "id": "4507820b-7b00-40cf-8510-93b5d555ac6d",
   "metadata": {},
   "outputs": [],
   "source": [
    "input_size = 1*28*28      \n",
    "hidden1 = 1024      \n",
    "hidden2 = 1024\n",
    "hidden3 = 1024\n",
    "weight_bit_width = 1\n",
    "act_bit_width = 1\n",
    "num_classes = 10  "
   ]
  },
  {
   "cell_type": "code",
   "execution_count": 24,
   "id": "fc154fcb-863f-4b3a-a36e-cb4d0be6623a",
   "metadata": {},
   "outputs": [],
   "source": [
    "import brevitas.nn as qnn\n",
    "from brevitas.nn import QuantLinear, QuantReLU\n",
    "import torch.nn as nn\n",
    "from torch.nn import Module\n",
    "from brevitas.quant.binary import SignedBinaryActPerTensorConst\n",
    "from brevitas.quant.binary import SignedBinaryWeightPerTensorConst\n",
    "from brevitas.inject.enum import QuantType\n",
    "from brevitas.quant_tensor import QuantTensor\n",
    "import math\n",
    "import pwlf\n",
    "import copy\n",
    "import matplotlib.pyplot as plt\n",
    "import numpy as np\n",
    "\n",
    "# Setting seeds for reproducibility\n",
    "torch.manual_seed(0)\n",
    "\n",
    "class TFC_W1A1(Module):\n",
    "    def __init__(self):\n",
    "        super(TFC_W1A1, self).__init__()\n",
    "        \n",
    "        self.input = qnn.QuantIdentity(\n",
    "                         quant_type='binary',\n",
    "                         scaling_impl_type='const',\n",
    "                         bit_width=1,\n",
    "                         min_val=-1.0,\n",
    "                         max_val=1.0, \n",
    "                         return_quant_tensor=True\n",
    "                     )\n",
    "        \n",
    "        self.fc1   = qnn.QuantLinear(\n",
    "                         input_size, \n",
    "                         hidden1, \n",
    "                         weight_bit_width=weight_bit_width,\n",
    "                         weight_quant_type=QuantType.BINARY,\n",
    "                         bias=False\n",
    "                     )\n",
    "        \n",
    "        self.bn1   = nn.BatchNorm1d(hidden1)\n",
    "        self.relu1 = qnn.QuantReLU(\n",
    "                         bit_width=act_bit_width, \n",
    "                         return_quant_tensor=True\n",
    "                     )\n",
    "        \n",
    "        self.fc2   = qnn.QuantLinear(\n",
    "                         hidden1, \n",
    "                         hidden2, \n",
    "                         weight_bit_width=weight_bit_width,\n",
    "                         weight_quant_type=QuantType.BINARY,\n",
    "                         bias=False\n",
    "                     )\n",
    "        self.bn2   = nn.BatchNorm1d(hidden2)\n",
    "        self.relu2 = qnn.QuantReLU(\n",
    "                         bit_width=act_bit_width, \n",
    "                         return_quant_tensor=True\n",
    "                     )\n",
    "        \n",
    "        \n",
    "        self.fc3   = qnn.QuantLinear(\n",
    "                         hidden2, \n",
    "                         hidden3, \n",
    "                         weight_bit_width=weight_bit_width,\n",
    "                         weight_quant_type=QuantType.BINARY,\n",
    "                         bias=False\n",
    "                     )\n",
    "        self.bn3   = nn.BatchNorm1d(hidden3)\n",
    "        self.relu3 = qnn.QuantReLU(\n",
    "                         bit_width=act_bit_width, \n",
    "                         return_quant_tensor=True\n",
    "                     )\n",
    "        \n",
    "        \n",
    "        self.out   = qnn.QuantLinear(\n",
    "                         hidden3, \n",
    "                         num_classes, \n",
    "                         weight_bit_width=weight_bit_width,\n",
    "                         weight_quant_type=QuantType.BINARY,\n",
    "                         bias=False\n",
    "                     )\n",
    "        \n",
    "        self.accu_min_1 = 65535.0\n",
    "        self.accu_max_1 = 0.0\n",
    "        \n",
    "        self.out_min_1 = 65535.0\n",
    "        self.out_max_1 = 0.0\n",
    "        \n",
    "        self.accu_min_2 = 65535.0\n",
    "        self.accu_max_2 = 0.0\n",
    "        \n",
    "        self.out_min_2 = 65535.0\n",
    "        self.out_max_2 = 0.0\n",
    "        \n",
    "        self.accu_min_3 = 65535.0\n",
    "        self.accu_max_3 = 0.0\n",
    "        \n",
    "        self.out_min_3 = 65535.0\n",
    "        self.out_max_3 = 0.0\n",
    "\n",
    "    def forward(self, x, en):\n",
    "        \n",
    "        out = x.reshape(x.shape[0], -1)\n",
    "        out = self.input(out)\n",
    "        \n",
    "        #out = self.relu1(self.bn1(self.fc1(out)))\n",
    "        out=self.fc1(out)\n",
    "        if (en==True):\n",
    "            if (out.max()>self.accu_max_1):\n",
    "                self.accu_max_1 = out.max()\n",
    "            if (out.min()<self.accu_min_1):\n",
    "                self.accu_min_1 = out.min()\n",
    "        out=self.relu1(self.bn1(out))\n",
    "        if (en==True):\n",
    "            if (out.value.max()>self.out_max_1):\n",
    "                self.out_max_1 = out.value.max()\n",
    "            if (out.value.min()<self.out_min_1):\n",
    "                self.out_min_1 = out.value.min()\n",
    "                \n",
    "        #out = self.relu2(self.bn2(self.fc2(out)))\n",
    "        out=self.fc2(out)\n",
    "        if (en==True):\n",
    "            if (out.max()>self.accu_max_2):\n",
    "                self.accu_max_2 = out.max()\n",
    "            if (out.min()<self.accu_min_2):\n",
    "                self.accu_min_2 = out.min()\n",
    "        out=self.relu2(self.bn2(out))\n",
    "        if (en==True):\n",
    "            if (out.value.max()>self.out_max_2):\n",
    "                self.out_max_2 = out.value.max()\n",
    "            if (out.value.min()<self.out_min_2):\n",
    "                self.out_min_2 = out.value.min()\n",
    "                \n",
    "        #out = self.relu3(self.bn3(self.fc3(out)))\n",
    "        out=self.fc3(out)\n",
    "        if (en==True):\n",
    "            if (out.max()>self.accu_max_3):\n",
    "                self.accu_max_3 = out.max()\n",
    "            if (out.min()<self.accu_min_3):\n",
    "                self.accu_min_3 = out.min()\n",
    "        out=self.relu3(self.bn3(out))\n",
    "        if (en==True):\n",
    "            if (out.value.max()>self.out_max_3):\n",
    "                self.out_max_3 = out.value.max()\n",
    "            if (out.value.min()<self.out_min_3):\n",
    "                self.out_min_3 = out.value.min()\n",
    "                \n",
    "        out = self.out(out)\n",
    "        \n",
    "        return out\n",
    "   \n",
    "model = TFC_W1A1()"
   ]
  },
  {
   "cell_type": "code",
   "execution_count": 25,
   "id": "890b02ff-6fdf-4a7c-87a3-6d2ea524dabd",
   "metadata": {},
   "outputs": [],
   "source": [
    "def train(model, train_loader, optimizer, criterion):\n",
    "    losses = []\n",
    "    # ensure model is in training mode\n",
    "    model.train()    \n",
    "    \n",
    "    for i, data in enumerate(train_loader, 0):        \n",
    "        inputs, target = data\n",
    "        #inputs, target = inputs.cuda(), target.cuda()\n",
    "        inputs, target = Variable(inputs), Variable(target)\n",
    "        \n",
    "        outputs = model(inputs, False)\n",
    "        _,pred = torch.max(outputs.data,1)\n",
    "        \n",
    "        optimizer.zero_grad()\n",
    "        loss = criterion(outputs,target)\n",
    " \n",
    "        loss.backward()\n",
    "        optimizer.step()\n",
    "        \n",
    "        # keep track of loss value\n",
    "        losses.append(loss.data.numpy()) \n",
    "           \n",
    "    return losses"
   ]
  },
  {
   "cell_type": "code",
   "execution_count": 26,
   "id": "18885207-a9da-4736-89ec-0d725712fc0a",
   "metadata": {},
   "outputs": [],
   "source": [
    "import torch\n",
    "from sklearn.metrics import accuracy_score\n",
    "\n",
    "def test(model, test_loader, enable=False):    \n",
    "    # ensure model is in eval mode\n",
    "    model.eval() \n",
    "    y_true = []\n",
    "    y_pred = []\n",
    "   \n",
    "    with torch.no_grad():\n",
    "        for data in test_loader:\n",
    "            inputs, target = data\n",
    "            #inputs, target = inputs.cuda(), target.cuda()\n",
    "            inputs, target = Variable(inputs),Variable(target)\n",
    "            output = model(inputs, enable)\n",
    "            #output = torch.sigmoid(output_orig)  \n",
    "            _,pred = torch.max(output,1)\n",
    "            # compare against a threshold of 0.5 to generate 0/1\n",
    "            y_true.extend(target.tolist()) \n",
    "            y_pred.extend(pred.reshape(-1).tolist())\n",
    "        \n",
    "    return accuracy_score(y_true, y_pred)"
   ]
  },
  {
   "cell_type": "code",
   "execution_count": 27,
   "id": "8bf8e20a-d5d6-4a38-9af7-1c862f673400",
   "metadata": {},
   "outputs": [],
   "source": [
    "num_epochs = 10\n",
    "learn_rate = 0.001 \n",
    "\n",
    "def display_loss_plot(losses, title=\"Training loss\", xlabel=\"Iterations\", ylabel=\"Loss\"):\n",
    "    x_axis = [i for i in range(len(losses))]\n",
    "    plt.plot(x_axis,losses)\n",
    "    plt.title(title)\n",
    "    plt.xlabel(xlabel)\n",
    "    plt.ylabel(ylabel)\n",
    "    plt.show()"
   ]
  },
  {
   "cell_type": "code",
   "execution_count": 28,
   "id": "750335ed-1870-4a88-88dc-772706730f78",
   "metadata": {},
   "outputs": [],
   "source": [
    "# loss criterion and optimizer\n",
    "criterion = torch.nn.CrossEntropyLoss()\n",
    "optimizer = torch.optim.Adam(model.parameters(), lr=learn_rate, betas=(0.9, 0.999))"
   ]
  },
  {
   "cell_type": "code",
   "execution_count": 29,
   "id": "2aa332e3-7a02-4b0c-b175-203e65b10f10",
   "metadata": {},
   "outputs": [
    {
     "name": "stderr",
     "output_type": "stream",
     "text": [
      "Training loss = 0.132884 test accuracy = 0.959100: 100%|█| 10/10 [18:51<00:00, 1\n"
     ]
    }
   ],
   "source": [
    "import numpy as np\n",
    "from sklearn.metrics import accuracy_score\n",
    "from tqdm import tqdm, trange\n",
    "\n",
    "# Setting seeds for reproducibility\n",
    "torch.manual_seed(0)\n",
    "np.random.seed(0)\n",
    "\n",
    "running_loss = []\n",
    "running_test_acc = []\n",
    "t = trange(num_epochs, desc=\"Training loss\", leave=True)\n",
    "\n",
    "for epoch in t:\n",
    "        loss_epoch = train(model, data_loader_train, optimizer, criterion)\n",
    "        test_acc = test(model, data_loader_test)\n",
    "        t.set_description(\"Training loss = %f test accuracy = %f\" % (np.mean(loss_epoch), test_acc))\n",
    "        t.refresh() # to show immediately the update           \n",
    "        running_loss.append(loss_epoch)\n",
    "        running_test_acc.append(test_acc)"
   ]
  },
  {
   "cell_type": "code",
   "execution_count": 30,
   "id": "60ee50d0-24b3-48ed-b32f-f96ca0050ae3",
   "metadata": {},
   "outputs": [
    {
     "data": {
      "image/png": "[encoded data removed]",
      "text/plain": [
       "<Figure size 640x480 with 1 Axes>"
      ]
     },
     "metadata": {},
     "output_type": "display_data"
    }
   ],
   "source": [
    "%matplotlib inline\n",
    "import matplotlib.pyplot as plt\n",
    "\n",
    "loss_per_epoch = [np.mean(loss_per_epoch) for loss_per_epoch in running_loss]\n",
    "display_loss_plot(loss_per_epoch)"
   ]
  },
  {
   "cell_type": "code",
   "execution_count": 31,
   "id": "4280c64f-d2da-4658-a45c-36e925c15ce9",
   "metadata": {},
   "outputs": [
    {
     "data": {
      "image/png": "[encoded data removed]",
      "text/plain": [
       "<Figure size 640x480 with 1 Axes>"
      ]
     },
     "metadata": {},
     "output_type": "display_data"
    }
   ],
   "source": [
    "acc_per_epoch = [np.mean(acc_per_epoch) for acc_per_epoch in running_test_acc]\n",
    "display_loss_plot(acc_per_epoch, title=\"Test accuracy\", ylabel=\"Accuracy [%]\")"
   ]
  },
  {
   "cell_type": "code",
   "execution_count": 32,
   "id": "4989be6a-b56a-4e9a-a64f-e4ba07f3f55d",
   "metadata": {},
   "outputs": [
    {
     "data": {
      "text/plain": [
       "0.9591"
      ]
     },
     "execution_count": 32,
     "metadata": {},
     "output_type": "execute_result"
    }
   ],
   "source": [
    "test(model, data_loader_test, True)"
   ]
  },
  {
   "cell_type": "code",
   "execution_count": 33,
   "id": "f31a4d0a-d34c-4d41-a076-e3d0dfaaa2c7",
   "metadata": {},
   "outputs": [],
   "source": [
    "test_1_in = torch.from_numpy(np.ones((1000,1024)).astype('f'))\n",
    "test_1_out = model.relu1(model.bn1(test_1_in))\n",
    "scale_1 = test_1_out.scale.cpu().detach().numpy()\n",
    "zero_point_1 = test_1_out.zero_point.cpu().detach().numpy()\n",
    "\n",
    "test_2_in = torch.from_numpy(np.ones((1000,1024)).astype('f'))\n",
    "test_2_out = model.relu2(model.bn2(test_2_in))\n",
    "scale_2 = test_2_out.scale.cpu().detach().numpy()\n",
    "zero_point_2 = test_2_out.zero_point.cpu().detach().numpy()\n",
    "\n",
    "test_3_in = torch.from_numpy(np.ones((1000,1024)).astype('f'))\n",
    "test_3_out = model.relu3(model.bn3(test_3_in))\n",
    "scale_3 = test_3_out.scale.cpu().detach().numpy()\n",
    "zero_point_3 = test_3_out.zero_point.cpu().detach().numpy()"
   ]
  },
  {
   "cell_type": "code",
   "execution_count": 34,
   "id": "ec55491c-6c1b-4e0f-9021-982c9811df63",
   "metadata": {},
   "outputs": [
    {
     "name": "stdout",
     "output_type": "stream",
     "text": [
      "Layer 1:\n",
      "\n",
      "    Accumulator Output Range: [ tensor(-170.0276) ,  tensor(187.1527) ]\n",
      "\n",
      "    Multi-Threshold Output Range: [ tensor(0.) ,  tensor(1.) ]\n",
      "\n",
      "    Scale factor:  0.0028\n",
      "Layer 2:\n",
      "\n",
      "    Accumulator Output Range: [ tensor(-420.2091) ,  tensor(351.9518) ]\n",
      "\n",
      "    Multi-Threshold Output Range: [ tensor(0.) ,  tensor(1.) ]\n",
      "\n",
      "    Scale factor:  0.0013\n",
      "Layer 3:\n",
      "\n",
      "    Accumulator Output Range: [ tensor(-938.3041) ,  tensor(780.4164) ]\n",
      "\n",
      "    Multi-Threshold Output Range: [ tensor(0.) ,  tensor(1.) ]\n",
      "\n",
      "    Scale factor:  0.0006\n"
     ]
    }
   ],
   "source": [
    "print(\"Layer 1:\\n\")\n",
    "print(\"    Accumulator Output Range: [\", model.accu_min_1, \", \", model.accu_max_1, \"]\\n\")\n",
    "print(\"    Multi-Threshold Output Range: [\", model.out_min_1/scale_1+zero_point_1, \", \", model.out_max_1/scale_1+zero_point_1, \"]\\n\")\n",
    "print(\"    Scale factor: \", \"%.4f\" %(((model.out_max_1-model.out_min_1)/scale_1+zero_point_1)/(model.accu_max_1-model.accu_min_1)))\n",
    "\n",
    "print(\"Layer 2:\\n\")\n",
    "print(\"    Accumulator Output Range: [\", model.accu_min_2, \", \", model.accu_max_2, \"]\\n\")\n",
    "print(\"    Multi-Threshold Output Range: [\", model.out_min_2/scale_2+zero_point_2, \", \", model.out_max_2/scale_2+zero_point_2, \"]\\n\")\n",
    "print(\"    Scale factor: \", \"%.4f\" %(((model.out_max_2-model.out_min_2)/scale_2+zero_point_2)/(model.accu_max_2-model.accu_min_2)))\n",
    "\n",
    "print(\"Layer 3:\\n\")\n",
    "print(\"    Accumulator Output Range: [\", model.accu_min_3, \", \", model.accu_max_3, \"]\\n\")\n",
    "print(\"    Multi-Threshold Output Range: [\", model.out_min_3/scale_3+zero_point_3, \", \", model.out_max_3/scale_3+zero_point_3, \"]\\n\")\n",
    "print(\"    Scale factor: \", \"%.4f\" %(((model.out_max_3-model.out_min_3)/scale_3+zero_point_3)/(model.accu_max_3-model.accu_min_3)))"
   ]
  }
 ],
 "metadata": {
  "kernelspec": {
   "display_name": "Python 3 (ipykernel)",
   "language": "python",
   "name": "python3"
  },
  "language_info": {
   "codemirror_mode": {
    "name": "ipython",
    "version": 3
   },
   "file_extension": ".py",
   "mimetype": "text/x-python",
   "name": "python",
   "nbconvert_exporter": "python",
   "pygments_lexer": "ipython3",
   "version": "3.8.19"
  }
 },
 "nbformat": 4,
 "nbformat_minor": 5
}
